{
  "nbformat": 4,
  "nbformat_minor": 0,
  "metadata": {
    "colab": {
      "provenance": []
    },
    "kernelspec": {
      "name": "python3",
      "display_name": "Python 3"
    },
    "language_info": {
      "name": "python"
    }
  },
  "cells": [
    {
      "cell_type": "code",
      "execution_count": 142,
      "metadata": {
        "id": "umgn9HP_Isu_"
      },
      "outputs": [],
      "source": [
        "import copy\n",
        "from functools import reduce\n",
        "import random as rnd\n",
        "from toolz import curry\n",
        "\n",
        "NUMBER_OF_TOSSES: int = 200_000\n",
        "\n",
        "def flipCoin() -> str:\n",
        "    return str(rnd.randint(0, 1))\n",
        "\n",
        "cointosses: list = list( flipCoin() for _ in (['-1'] * NUMBER_OF_TOSSES) )\n",
        "\n",
        "@curry\n",
        "def processToss(pattern: str, start_state: dict, toss: int) -> dict:\n",
        "    curr_state: dict = copy.deepcopy(start_state)\n",
        "\n",
        "    curr_state['tosses'].append(toss) # toss\n",
        "\n",
        "    if len(curr_state['tosses']) < 3:\n",
        "        return curr_state\n",
        "\n",
        "    if curr_state['tosses'][-3:] == list(pattern): # check for match\n",
        "        # add length of toss history to record and reset\n",
        "        curr_state['tosses_to_match'].append(len(curr_state['tosses']))\n",
        "        curr_state['tosses'] = [] # reset history of tosses\n",
        "\n",
        "    return curr_state # return updated state\n",
        "\n",
        "def calculateTTM(pattern: str) -> float:\n",
        "    init_state: dict = {\n",
        "        'tosses': [], # previous coin tosses\n",
        "        'tosses_to_match': [],\n",
        "    }\n",
        "\n",
        "    end_state: dict = reduce(processToss(pattern), cointosses, init_state)\n",
        "\n",
        "    ttm: list = end_state['tosses_to_match'] # tosses to match\n",
        "\n",
        "    avg_ttm: int = sum(ttm) / float(len(ttm)) # average tosses to match\n",
        "\n",
        "    return avg_ttm"
      ]
    },
    {
      "cell_type": "code",
      "source": [
        "pattern = '101'\n",
        "print(f'average no. of coin tosses before match for {pattern} pattern is {round(calculateTTM(pattern), 3)}')"
      ],
      "metadata": {
        "colab": {
          "base_uri": "https://localhost:8080/"
        },
        "id": "P9-mUuP9t9hl",
        "outputId": "6935de20-bd59-469f-f1ae-860f68fa8da0"
      },
      "execution_count": 143,
      "outputs": [
        {
          "output_type": "stream",
          "name": "stdout",
          "text": [
            "average no. of coin tosses before match for 101 pattern is 10.106\n"
          ]
        }
      ]
    },
    {
      "cell_type": "code",
      "source": [
        "pattern = '011'\n",
        "print(f'average no. of coin tosses before match for {pattern} pattern is {round(calculateTTM(pattern), 3)}')"
      ],
      "metadata": {
        "colab": {
          "base_uri": "https://localhost:8080/"
        },
        "id": "9WZYrlykuNZT",
        "outputId": "2ee653cf-7518-432d-cddb-ba30b5a6d2a6"
      },
      "execution_count": 144,
      "outputs": [
        {
          "output_type": "stream",
          "name": "stdout",
          "text": [
            "average no. of coin tosses before match for 011 pattern is 7.98\n"
          ]
        }
      ]
    }
  ]
}