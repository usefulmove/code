{
  "nbformat": 4,
  "nbformat_minor": 0,
  "metadata": {
    "colab": {
      "provenance": []
    },
    "kernelspec": {
      "name": "python3",
      "display_name": "Python 3"
    },
    "language_info": {
      "name": "python"
    }
  },
  "cells": [
    {
      "cell_type": "code",
      "execution_count": 3,
      "metadata": {
        "colab": {
          "base_uri": "https://localhost:8080/"
        },
        "id": "umgn9HP_Isu_",
        "outputId": "a15fb8bf-71ad-4035-8c03-17b982ee5f01"
      },
      "outputs": [
        {
          "output_type": "stream",
          "name": "stdout",
          "text": [
            "average no. of coin tosses before match: 10.003957575114896\n"
          ]
        }
      ],
      "source": [
        "from functools import reduce\n",
        "import numpy as np\n",
        "import random as rand\n",
        "\n",
        "NUMBER_OF_TOSSES: int = 5_000_000\n",
        "\n",
        "pattern: list = list('101')\n",
        "\n",
        "def flipCoin() -> str:\n",
        "    return str(rand.randint(0, 1))\n",
        "\n",
        "tosses: list = list( flipCoin() for _ in np.zeros(NUMBER_OF_TOSSES) )\n",
        "\n",
        "\n",
        "init_state: dict = {\n",
        "    'tosses': [], # previous coin tosses\n",
        "    'tosses_to_match': [],\n",
        "}\n",
        "\n",
        "def processToss(init_state: dict, toss: int) -> dict:\n",
        "    curr_state: dict = init_state.copy()\n",
        "\n",
        "    curr_state['tosses'].append(flipCoin()) # toss\n",
        "    #print(curr_state)\n",
        "\n",
        "    if len(curr_state['tosses']) < 3:\n",
        "        return curr_state\n",
        "\n",
        "    if curr_state['tosses'][-3:] == pattern: # check for match\n",
        "        # add length of toss history to record and reset\n",
        "        curr_state['tosses_to_match'].append(len(curr_state['tosses']))\n",
        "        curr_state['tosses'] = [] # reset history of tosses\n",
        "\n",
        "    return curr_state\n",
        "\n",
        "end_state: dict = reduce(processToss, tosses, init_state)\n",
        "\n",
        "tom: list = end_state['tosses_to_match'] # tosses to match\n",
        "\n",
        "avg_tom: int = sum(tom) / float(len(tom)) # average tosses to match\n",
        "print(f'average no. of coin tosses before match: {avg_tom}')"
      ]
    }
  ]
}