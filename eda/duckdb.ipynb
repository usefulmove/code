{
 "cells": [
  {
   "cell_type": "code",
   "execution_count": 23,
   "id": "73048ce2",
   "metadata": {},
   "outputs": [
    {
     "data": {
      "text/plain": [
       "┌────────────────┬─────────────────────────────┬────────────────┬────────┬────────────────┬────────┬────────┬────────┬───────┬─────────┬────────┬────────────┬────────────────┬────────────┬─────────┬────────────────────┬────────────┐\n",
       "│     geo_id     │           county            │     state      │ total  │ total_one_race │ white  │ black  │ native │ asian │ pac_isl │ other  │ state_code │     State      │ State Code │ Region  │      Division      │ perc_black │\n",
       "│    varchar     │           varchar           │    varchar     │ int64  │     int64      │ int64  │ int64  │ int64  │ int64 │  int64  │ int64  │  varchar   │    varchar     │  varchar   │ varchar │      varchar       │   double   │\n",
       "├────────────────┼─────────────────────────────┼────────────────┼────────┼────────────────┼────────┼────────┼────────┼───────┼─────────┼────────┼────────────┼────────────────┼────────────┼─────────┼────────────────────┼────────────┤\n",
       "│ 0500000US51730 │ Petersburg city             │ Virginia       │  33458 │          31883 │   5418 │  24811 │    141 │   339 │      32 │   1142 │ VA         │ Virginia       │ VA         │ South   │ South Atlantic     │      0.742 │\n",
       "│ 0500000US28151 │ Washington County           │ Mississippi    │  44922 │          44008 │  11264 │  32042 │     64 │   302 │      11 │    325 │ MS         │ Mississippi    │ MS         │ South   │ East South Central │      0.713 │\n",
       "│ 0500000US01047 │ Dallas County               │ Alabama        │  38462 │          37656 │  10409 │  26899 │     65 │   146 │      17 │    120 │ AL         │ Alabama        │ AL         │ South   │ East South Central │      0.699 │\n",
       "│ 0500000US13095 │ Dougherty County            │ Georgia        │  85790 │          83230 │  20976 │  59988 │    167 │   668 │      30 │   1401 │ GA         │ Georgia        │ GA         │ South   │ South Atlantic     │      0.699 │\n",
       "│ 0500000US13063 │ Clayton County              │ Georgia        │ 297595 │         280614 │  30505 │ 207981 │   1991 │ 13640 │     178 │  26319 │ GA         │ Georgia        │ GA         │ South   │ South Atlantic     │      0.699 │\n",
       "│ 0500000US28049 │ Hinds County                │ Mississippi    │ 227742 │         222036 │  58644 │ 158112 │    386 │  2186 │      47 │   2661 │ MS         │ Mississippi    │ MS         │ South   │ East South Central │      0.694 │\n",
       "│ 0500000US45089 │ Williamsburg County         │ South Carolina │  31026 │          30393 │  10249 │  19666 │     87 │   161 │       3 │    227 │ SC         │ South Carolina │ SC         │ South   │ South Atlantic     │      0.634 │\n",
       "│ 0500000US28011 │ Bolivar County              │ Mississippi    │  30985 │          30184 │  10111 │  19365 │     27 │   262 │       0 │    419 │ MS         │ Mississippi    │ MS         │ South   │ East South Central │      0.625 │\n",
       "│ 0500000US45075 │ Orangeburg County           │ South Carolina │  84223 │          81738 │  28070 │  51046 │    517 │   895 │      39 │   1171 │ SC         │ South Carolina │ SC         │ South   │ South Atlantic     │      0.606 │\n",
       "│ 0500000US24033 │ Prince George's County      │ Maryland       │ 967201 │         894607 │ 124863 │ 578703 │   8935 │ 41875 │     546 │ 139685 │ MD         │ Maryland       │ MD         │ South   │ South Atlantic     │      0.598 │\n",
       "│ 0500000US13247 │ Rockdale County             │ Georgia        │  93570 │          87365 │  25661 │  54409 │    312 │  1542 │      83 │   5358 │ GA         │ Georgia        │ GA         │ South   │ South Atlantic     │      0.581 │\n",
       "│ 0500000US24510 │ Baltimore city              │ Maryland       │ 585708 │         553258 │ 163026 │ 338478 │   2312 │ 21210 │     186 │  28046 │ MD         │ Maryland       │ MD         │ South   │ South Atlantic     │      0.578 │\n",
       "│ 0500000US22095 │ St. John the Baptist Parish │ Louisiana      │  42477 │          40183 │  13877 │  24305 │    167 │   317 │      12 │   1505 │ LA         │ Louisiana      │ LA         │ South   │ West South Central │      0.572 │\n",
       "│ 0500000US01101 │ Montgomery County           │ Alabama        │ 228954 │         220759 │  75074 │ 130467 │    795 │  7995 │     146 │   6282 │ AL         │ Alabama        │ AL         │ South   │ East South Central │       0.57 │\n",
       "│ 0500000US05069 │ Jefferson County            │ Arkansas       │  67260 │          65189 │  25478 │  37835 │    240 │   673 │      94 │    869 │ AR         │ Arkansas       │ AR         │ South   │ West South Central │      0.563 │\n",
       "│ 0500000US37065 │ Edgecombe County            │ North Carolina │  48900 │          47246 │  17631 │  27429 │    194 │   113 │      12 │   1867 │ NC         │ North Carolina │ NC         │ South   │ South Atlantic     │      0.561 │\n",
       "│ 0500000US13245 │ Richmond County             │ Georgia        │ 206607 │         195001 │  70997 │ 114201 │    690 │  3975 │     416 │   4722 │ GA         │ Georgia        │ GA         │ South   │ South Atlantic     │      0.553 │\n",
       "│ 0500000US13021 │ Bibb County                 │ Georgia        │ 157346 │         151075 │  57778 │  85885 │    373 │  3251 │      53 │   3735 │ GA         │ Georgia        │ GA         │ South   │ South Atlantic     │      0.546 │\n",
       "│ 0500000US22071 │ Orleans Parish              │ Louisiana      │ 383997 │         359331 │ 126462 │ 208273 │   1337 │ 10703 │     147 │  12409 │ LA         │ Louisiana      │ LA         │ South   │ West South Central │      0.542 │\n",
       "│ 0500000US05035 │ Crittenden County           │ Arkansas       │  48163 │          46344 │  19276 │  25905 │    136 │   327 │      17 │    683 │ AR         │ Arkansas       │ AR         │ South   │ West South Central │      0.538 │\n",
       "├────────────────┴─────────────────────────────┴────────────────┴────────┴────────────────┴────────┴────────┴────────┴───────┴─────────┴────────┴────────────┴────────────────┴────────────┴─────────┴────────────────────┴────────────┤\n",
       "│ 20 rows                                                                                                                                                                                                                   17 columns │\n",
       "└──────────────────────────────────────────────────────────────────────────────────────────────────────────────────────────────────────────────────────────────────────────────────────────────────────────────────────────────────────┘"
      ]
     },
     "execution_count": 23,
     "metadata": {},
     "output_type": "execute_result"
    }
   ],
   "source": [
    "import duckdb\n",
    "\n",
    "duckdb.sql(\"\"\"\n",
    "    SELECT *,  ROUND(black / total, 3) AS perc_black\n",
    "    FROM '~/repos/code/data-library/library.us_demographics_census2020.json' As demog\n",
    "      LEFT JOIN '~/repos/code/data-library/us-states-regions-divisions.csv' As reg\n",
    "        ON demog.state_code = reg.\"State Code\"\n",
    "    WHERE total > 30000\n",
    "    ORDER BY perc_black DESC\n",
    "    LIMIT 20\n",
    "\"\"\")"
   ]
  },
  {
   "cell_type": "code",
   "execution_count": 18,
   "id": "42971baa",
   "metadata": {},
   "outputs": [
    {
     "data": {
      "text/plain": [
       "┌──────────────────────┬────────────┬───────────┬────────────────────┐\n",
       "│        State         │ State Code │  Region   │      Division      │\n",
       "│       varchar        │  varchar   │  varchar  │      varchar       │\n",
       "├──────────────────────┼────────────┼───────────┼────────────────────┤\n",
       "│ Alaska               │ AK         │ West      │ Pacific            │\n",
       "│ Alabama              │ AL         │ South     │ East South Central │\n",
       "│ Arkansas             │ AR         │ South     │ West South Central │\n",
       "│ Arizona              │ AZ         │ West      │ Mountain           │\n",
       "│ California           │ CA         │ West      │ Pacific            │\n",
       "│ Colorado             │ CO         │ West      │ Mountain           │\n",
       "│ Connecticut          │ CT         │ Northeast │ New England        │\n",
       "│ District of Columbia │ DC         │ South     │ South Atlantic     │\n",
       "│ Delaware             │ DE         │ South     │ South Atlantic     │\n",
       "│ Florida              │ FL         │ South     │ South Atlantic     │\n",
       "│ Georgia              │ GA         │ South     │ South Atlantic     │\n",
       "│ Hawaii               │ HI         │ West      │ Pacific            │\n",
       "│ Iowa                 │ IA         │ Midwest   │ West North Central │\n",
       "│ Idaho                │ ID         │ West      │ Mountain           │\n",
       "│ Illinois             │ IL         │ Midwest   │ East North Central │\n",
       "│ Indiana              │ IN         │ Midwest   │ East North Central │\n",
       "│ Kansas               │ KS         │ Midwest   │ West North Central │\n",
       "│ Kentucky             │ KY         │ South     │ East South Central │\n",
       "│ Louisiana            │ LA         │ South     │ West South Central │\n",
       "│ Massachusetts        │ MA         │ Northeast │ New England        │\n",
       "├──────────────────────┴────────────┴───────────┴────────────────────┤\n",
       "│ 20 rows                                                  4 columns │\n",
       "└────────────────────────────────────────────────────────────────────┘"
      ]
     },
     "execution_count": 18,
     "metadata": {},
     "output_type": "execute_result"
    }
   ],
   "source": [
    "duckdb.sql(\"\"\"\n",
    "    SELECT *\n",
    "    FROM '~/repos/code/data-library/us-states-regions-divisions.csv'\n",
    "    LIMIT 20\n",
    "\"\"\")"
   ]
  }
 ],
 "metadata": {
  "kernelspec": {
   "display_name": "venv",
   "language": "python",
   "name": "python3"
  },
  "language_info": {
   "codemirror_mode": {
    "name": "ipython",
    "version": 3
   },
   "file_extension": ".py",
   "mimetype": "text/x-python",
   "name": "python",
   "nbconvert_exporter": "python",
   "pygments_lexer": "ipython3",
   "version": "3.13.3"
  }
 },
 "nbformat": 4,
 "nbformat_minor": 5
}
