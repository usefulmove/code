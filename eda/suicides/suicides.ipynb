{
 "cells": [
  {
   "cell_type": "code",
   "execution_count": 32,
   "id": "a434dbba",
   "metadata": {},
   "outputs": [],
   "source": [
    "import duckdb\n",
    "\n",
    "data_source = '~/repos/code/suicides/who_suicide_statistics.csv' # world health organization (who) data\n",
    "\n",
    "query = f'''\n",
    "from (from '{data_source}'\n",
    "      select country, age, sex, year, round(suicides_no / population * 1000000, 5) as rate\n",
    "      where country ilike '%united states%'\n",
    "      limit 20)\n",
    "select country, age, sex, round(mean(rate), 1) as avg_rate\n",
    "group by country, age, sex\n",
    "order by avg_rate desc;\n",
    "'''\n",
    "\n",
    "us_avg_rates = duckdb.sql(query).df()\n",
    "\n",
    "#display(us_avg_rates)"
   ]
  },
  {
   "cell_type": "code",
   "execution_count": 33,
   "id": "9392ff4d",
   "metadata": {},
   "outputs": [
    {
     "data": {
      "text/html": [
       "\n",
       "<style>\n",
       "  #altair-viz-c7ca4fa7c6ee4069b8de3029572db928.vega-embed {\n",
       "    width: 100%;\n",
       "    display: flex;\n",
       "  }\n",
       "\n",
       "  #altair-viz-c7ca4fa7c6ee4069b8de3029572db928.vega-embed details,\n",
       "  #altair-viz-c7ca4fa7c6ee4069b8de3029572db928.vega-embed details summary {\n",
       "    position: relative;\n",
       "  }\n",
       "</style>\n",
       "<div id=\"altair-viz-c7ca4fa7c6ee4069b8de3029572db928\"></div>\n",
       "<script type=\"text/javascript\">\n",
       "  var VEGA_DEBUG = (typeof VEGA_DEBUG == \"undefined\") ? {} : VEGA_DEBUG;\n",
       "  (function(spec, embedOpt){\n",
       "    let outputDiv = document.currentScript.previousElementSibling;\n",
       "    if (outputDiv.id !== \"altair-viz-c7ca4fa7c6ee4069b8de3029572db928\") {\n",
       "      outputDiv = document.getElementById(\"altair-viz-c7ca4fa7c6ee4069b8de3029572db928\");\n",
       "    }\n",
       "\n",
       "    const paths = {\n",
       "      \"vega\": \"https://cdn.jsdelivr.net/npm/vega@5?noext\",\n",
       "      \"vega-lib\": \"https://cdn.jsdelivr.net/npm/vega-lib?noext\",\n",
       "      \"vega-lite\": \"https://cdn.jsdelivr.net/npm/vega-lite@5.20.1?noext\",\n",
       "      \"vega-embed\": \"https://cdn.jsdelivr.net/npm/vega-embed@6?noext\",\n",
       "    };\n",
       "\n",
       "    function maybeLoadScript(lib, version) {\n",
       "      var key = `${lib.replace(\"-\", \"\")}_version`;\n",
       "      return (VEGA_DEBUG[key] == version) ?\n",
       "        Promise.resolve(paths[lib]) :\n",
       "        new Promise(function(resolve, reject) {\n",
       "          var s = document.createElement('script');\n",
       "          document.getElementsByTagName(\"head\")[0].appendChild(s);\n",
       "          s.async = true;\n",
       "          s.onload = () => {\n",
       "            VEGA_DEBUG[key] = version;\n",
       "            return resolve(paths[lib]);\n",
       "          };\n",
       "          s.onerror = () => reject(`Error loading script: ${paths[lib]}`);\n",
       "          s.src = paths[lib];\n",
       "        });\n",
       "    }\n",
       "\n",
       "    function showError(err) {\n",
       "      outputDiv.innerHTML = `<div class=\"error\" style=\"color:red;\">${err}</div>`;\n",
       "      throw err;\n",
       "    }\n",
       "\n",
       "    function displayChart(vegaEmbed) {\n",
       "      vegaEmbed(outputDiv, spec, embedOpt)\n",
       "        .catch(err => showError(`Javascript Error: ${err.message}<br>This usually means there's a typo in your chart specification. See the javascript console for the full traceback.`));\n",
       "    }\n",
       "\n",
       "    if(typeof define === \"function\" && define.amd) {\n",
       "      requirejs.config({paths});\n",
       "      let deps = [\"vega-embed\"];\n",
       "      require(deps, displayChart, err => showError(`Error loading script: ${err.message}`));\n",
       "    } else {\n",
       "      maybeLoadScript(\"vega\", \"5\")\n",
       "        .then(() => maybeLoadScript(\"vega-lite\", \"5.20.1\"))\n",
       "        .then(() => maybeLoadScript(\"vega-embed\", \"6\"))\n",
       "        .catch(showError)\n",
       "        .then(() => displayChart(vegaEmbed));\n",
       "    }\n",
       "  })({\"usermeta\": {\"embedOptions\": {\"theme\": \"ggplot2\"}}, \"config\": {\"view\": {\"continuousWidth\": 300, \"continuousHeight\": 300}}, \"data\": {\"name\": \"data-7047ace22758cdcffd95e72a0f72c4a0\"}, \"mark\": {\"type\": \"bar\", \"opacity\": 0.8, \"stroke\": \"black\", \"strokeWidth\": 0.5}, \"encoding\": {\"color\": {\"field\": \"sex\", \"scale\": {\"scheme\": \"accent\"}, \"title\": \"\", \"type\": \"nominal\"}, \"row\": {\"field\": \"sex\", \"title\": \"\", \"type\": \"nominal\"}, \"tooltip\": {\"field\": \"custom_tooltip\", \"type\": \"nominal\"}, \"x\": {\"field\": \"avg_rate\", \"title\": \"average suicide rate per million people\", \"type\": \"quantitative\"}, \"y\": {\"field\": \"age\", \"sort\": [\"75+ years\", \"55-74 years\", \"35-54 years\", \"25-34 years\", \"15-24 years\", \"5-14 years\"], \"title\": \"\", \"type\": \"ordinal\"}}, \"height\": 140, \"title\": {\"text\": \"average suicide rates in the united states from 1979 to 2016\", \"subtitle\": [\"source: world health organization (who)\"]}, \"transform\": [{\"calculate\": \"datum.age + \\\" \\u2013 \\\" + datum.avg_rate + \\\" suicides per million people\\\"\", \"as\": \"custom_tooltip\"}], \"width\": 750, \"$schema\": \"https://vega.github.io/schema/vega-lite/v5.20.1.json\", \"datasets\": {\"data-7047ace22758cdcffd95e72a0f72c4a0\": [{\"country\": \"United States of America\", \"age\": \"75+ years\", \"sex\": \"male\", \"avg_rate\": 452.8}, {\"country\": \"United States of America\", \"age\": \"55-74 years\", \"sex\": \"male\", \"avg_rate\": 275.2}, {\"country\": \"United States of America\", \"age\": \"25-34 years\", \"sex\": \"male\", \"avg_rate\": 250.0}, {\"country\": \"United States of America\", \"age\": \"35-54 years\", \"sex\": \"male\", \"avg_rate\": 222.7}, {\"country\": \"United States of America\", \"age\": \"15-24 years\", \"sex\": \"male\", \"avg_rate\": 200.3}, {\"country\": \"United States of America\", \"age\": \"35-54 years\", \"sex\": \"female\", \"avg_rate\": 94.3}, {\"country\": \"United States of America\", \"age\": \"55-74 years\", \"sex\": \"female\", \"avg_rate\": 80.3}, {\"country\": \"United States of America\", \"age\": \"25-34 years\", \"sex\": \"female\", \"avg_rate\": 72.2}, {\"country\": \"United States of America\", \"age\": \"75+ years\", \"sex\": \"female\", \"avg_rate\": 57.5}, {\"country\": \"United States of America\", \"age\": \"15-24 years\", \"sex\": \"female\", \"avg_rate\": 45.2}, {\"country\": \"United States of America\", \"age\": \"5-14 years\", \"sex\": \"male\", \"avg_rate\": 5.8}, {\"country\": \"United States of America\", \"age\": \"5-14 years\", \"sex\": \"female\", \"avg_rate\": 2.1}]}}, {\"mode\": \"vega-lite\"});\n",
       "</script>"
      ],
      "text/plain": [
       "alt.Chart(...)"
      ]
     },
     "execution_count": 33,
     "metadata": {},
     "output_type": "execute_result"
    }
   ],
   "source": [
    "import altair as alt\n",
    "\n",
    "alt.theme.enable('ggplot2')\n",
    "\n",
    "age_labels = ['75+ years', '55-74 years', '35-54 years', '25-34 years', '15-24 years', '5-14 years']\n",
    "\n",
    "alt.Chart(\n",
    "    us_avg_rates,\n",
    "    title=alt.Title(\n",
    "        'average suicide rates in the united states from 1979 to 2016',\n",
    "        subtitle=['source: world health organization (who)']\n",
    "    ),\n",
    "    width=750,\n",
    "    height=140,\n",
    ").mark_bar(\n",
    "    stroke='black',\n",
    "    strokeWidth=0.5,\n",
    "    opacity=0.8,\n",
    ").encode(\n",
    "    x=alt.X('avg_rate', title='average suicide rate per million people'),\n",
    "    y=alt.Y('age:O', title='', sort=alt.Sort(age_labels)),\n",
    "    row=alt.Row('sex', title=''),\n",
    "    color=alt.Color('sex:N', title='', scale=alt.Scale(scheme='accent')),\n",
    "    tooltip='custom_tooltip:N',\n",
    ").transform_calculate(\n",
    "    custom_tooltip='datum.age + \" – \" + datum.avg_rate + \" suicides per million people\"',\n",
    ")"
   ]
  },
  {
   "cell_type": "code",
   "execution_count": 10,
   "id": "86afc30f",
   "metadata": {},
   "outputs": [
    {
     "data": {
      "text/plain": [
       "(12, 4)"
      ]
     },
     "execution_count": 10,
     "metadata": {},
     "output_type": "execute_result"
    }
   ],
   "source": [
    "us_avg_rates.shape"
   ]
  }
 ],
 "metadata": {
  "kernelspec": {
   "display_name": "venv",
   "language": "python",
   "name": "python3"
  },
  "language_info": {
   "codemirror_mode": {
    "name": "ipython",
    "version": 3
   },
   "file_extension": ".py",
   "mimetype": "text/x-python",
   "name": "python",
   "nbconvert_exporter": "python",
   "pygments_lexer": "ipython3",
   "version": "3.13.3"
  }
 },
 "nbformat": 4,
 "nbformat_minor": 5
}
