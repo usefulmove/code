{
 "cells": [
  {
   "cell_type": "code",
   "execution_count": 8,
   "id": "d1b7f65a",
   "metadata": {},
   "outputs": [
    {
     "data": {
      "text/html": [
       "<div><style>\n",
       ".dataframe > thead > tr,\n",
       ".dataframe > tbody > tr {\n",
       "  text-align: right;\n",
       "  white-space: pre-wrap;\n",
       "}\n",
       "</style>\n",
       "<small>shape: (4, 28)</small><table border=\"1\" class=\"dataframe\"><thead><tr><th>Website</th><th>Order ID</th><th>Order Date</th><th>Purchase Order Number</th><th>Currency</th><th>Unit Price</th><th>Unit Price Tax</th><th>Shipping Charge</th><th>Total Discounts</th><th>Total Owed</th><th>Shipment Item Subtotal</th><th>Shipment Item Subtotal Tax</th><th>ASIN</th><th>Product Condition</th><th>Quantity</th><th>Payment Instrument Type</th><th>Order Status</th><th>Shipment Status</th><th>Ship Date</th><th>Shipping Option</th><th>Shipping Address</th><th>Billing Address</th><th>Carrier Name &amp; Tracking Number</th><th>Product Name</th><th>Gift Message</th><th>Gift Sender Name</th><th>Gift Recipient Contact Details</th><th>Item Serial Number</th></tr><tr><td>str</td><td>str</td><td>date</td><td>str</td><td>str</td><td>f64</td><td>f64</td><td>f64</td><td>f64</td><td>f64</td><td>f64</td><td>f64</td><td>str</td><td>str</td><td>i64</td><td>str</td><td>str</td><td>str</td><td>date</td><td>str</td><td>str</td><td>str</td><td>str</td><td>str</td><td>str</td><td>str</td><td>str</td><td>str</td></tr></thead><tbody><tr><td>&quot;Amazon.com&quot;</td><td>&quot;114-0760626-7787434&quot;</td><td>2025-10-06</td><td>null</td><td>&quot;USD&quot;</td><td>6.99</td><td>0.75</td><td>0.0</td><td>0.0</td><td>7.74</td><td>6.99</td><td>0.75</td><td>&quot;B00J5J9DAK&quot;</td><td>&quot;New&quot;</td><td>1</td><td>&quot;Visa - 8166&quot;</td><td>&quot;Authorized&quot;</td><td>&quot;Paid&quot;</td><td>2025-10-06</td><td>&quot;next-1dc&quot;</td><td>&quot;Robert Duane Edmonds 2208 CARR…</td><td>&quot;Robert Duane Edmonds 2208 CARR…</td><td>&quot;Not Available&quot;</td><td>&quot;Pepsodent Complete Care Antica…</td><td>&quot;Not Available&quot;</td><td>&quot;Not Available&quot;</td><td>&quot;Not Available&quot;</td><td>&quot;Not Available&quot;</td></tr><tr><td>&quot;Amazon.com&quot;</td><td>&quot;114-5496154-2389867&quot;</td><td>2025-10-06</td><td>null</td><td>&quot;USD&quot;</td><td>54.0</td><td>5.81</td><td>0.0</td><td>0.0</td><td>59.81</td><td>54.0</td><td>5.81</td><td>&quot;B0D911QH19&quot;</td><td>&quot;New&quot;</td><td>1</td><td>&quot;Visa - 8166&quot;</td><td>&quot;Closed&quot;</td><td>&quot;Shipped&quot;</td><td>2025-10-07</td><td>&quot;next-1dc&quot;</td><td>&quot;Robert Duane Edmonds 2208 CARR…</td><td>&quot;Robert Duane Edmonds 2208 CARR…</td><td>&quot;USPS(9341989704006510833705)&quot;</td><td>&quot;Effective Polars: Optimized Da…</td><td>&quot;Not Available&quot;</td><td>&quot;Not Available&quot;</td><td>&quot;Not Available&quot;</td><td>&quot;Not Available&quot;</td></tr><tr><td>&quot;Amazon.com&quot;</td><td>&quot;114-0384001-8252269&quot;</td><td>2025-10-03</td><td>null</td><td>&quot;USD&quot;</td><td>12.99</td><td>1.4</td><td>0.0</td><td>0.0</td><td>14.39</td><td>12.99</td><td>1.4</td><td>&quot;1976884128&quot;</td><td>&quot;New&quot;</td><td>1</td><td>&quot;Visa - 8166&quot;</td><td>&quot;Closed&quot;</td><td>&quot;Shipped&quot;</td><td>2025-10-05</td><td>&quot;next-1dc&quot;</td><td>&quot;Robert Duane Edmonds 2208 CARR…</td><td>&quot;Robert Duane Edmonds 2208 CARR…</td><td>&quot;USPS(9341989704006508028502)&quot;</td><td>&quot;THE WAY: A Modern Tao Te Ching&quot;</td><td>&quot;Not Available&quot;</td><td>&quot;Not Available&quot;</td><td>&quot;Not Available&quot;</td><td>&quot;Authenticity_2D=01097819768841…</td></tr><tr><td>&quot;Amazon.com&quot;</td><td>&quot;114-6132900-0965005&quot;</td><td>2025-10-02</td><td>null</td><td>&quot;USD&quot;</td><td>9.98</td><td>1.07</td><td>0.0</td><td>0.0</td><td>11.05</td><td>19.96</td><td>2.14</td><td>&quot;B0F3DBPYL9&quot;</td><td>&quot;New&quot;</td><td>1</td><td>&quot;Visa - 8166&quot;</td><td>&quot;Closed&quot;</td><td>&quot;Shipped&quot;</td><td>2025-10-02</td><td>&quot;next-1dc&quot;</td><td>&quot;Robert Duane Edmonds 2208 CARR…</td><td>&quot;Robert Duane Edmonds 2208 CARR…</td><td>&quot;AMZN_US(TBA324793113883)&quot;</td><td>&quot;M&amp;SENSE Natural Soy Candle| Ba…</td><td>&quot;Not Available&quot;</td><td>&quot;Not Available&quot;</td><td>&quot;Not Available&quot;</td><td>&quot;Not Available&quot;</td></tr></tbody></table></div>"
      ],
      "text/plain": [
       "shape: (4, 28)\n",
       "┌───────────┬───────────┬───────────┬───────────┬───┬───────────┬───────────┬───────────┬──────────┐\n",
       "│ Website   ┆ Order ID  ┆ Order     ┆ Purchase  ┆ … ┆ Gift      ┆ Gift      ┆ Gift      ┆ Item     │\n",
       "│ ---       ┆ ---       ┆ Date      ┆ Order     ┆   ┆ Message   ┆ Sender    ┆ Recipient ┆ Serial   │\n",
       "│ str       ┆ str       ┆ ---       ┆ Number    ┆   ┆ ---       ┆ Name      ┆ Contact   ┆ Number   │\n",
       "│           ┆           ┆ date      ┆ ---       ┆   ┆ str       ┆ ---       ┆ Details   ┆ ---      │\n",
       "│           ┆           ┆           ┆ str       ┆   ┆           ┆ str       ┆ ---       ┆ str      │\n",
       "│           ┆           ┆           ┆           ┆   ┆           ┆           ┆ str       ┆          │\n",
       "╞═══════════╪═══════════╪═══════════╪═══════════╪═══╪═══════════╪═══════════╪═══════════╪══════════╡\n",
       "│ Amazon.co ┆ 114-07606 ┆ 2025-10-0 ┆ null      ┆ … ┆ Not       ┆ Not       ┆ Not       ┆ Not Avai │\n",
       "│ m         ┆ 26-778743 ┆ 6         ┆           ┆   ┆ Available ┆ Available ┆ Available ┆ lable    │\n",
       "│           ┆ 4         ┆           ┆           ┆   ┆           ┆           ┆           ┆          │\n",
       "│ Amazon.co ┆ 114-54961 ┆ 2025-10-0 ┆ null      ┆ … ┆ Not       ┆ Not       ┆ Not       ┆ Not Avai │\n",
       "│ m         ┆ 54-238986 ┆ 6         ┆           ┆   ┆ Available ┆ Available ┆ Available ┆ lable    │\n",
       "│           ┆ 7         ┆           ┆           ┆   ┆           ┆           ┆           ┆          │\n",
       "│ Amazon.co ┆ 114-03840 ┆ 2025-10-0 ┆ null      ┆ … ┆ Not       ┆ Not       ┆ Not       ┆ Authenti │\n",
       "│ m         ┆ 01-825226 ┆ 3         ┆           ┆   ┆ Available ┆ Available ┆ Available ┆ city_2D= │\n",
       "│           ┆ 9         ┆           ┆           ┆   ┆           ┆           ┆           ┆ 01097819 │\n",
       "│           ┆           ┆           ┆           ┆   ┆           ┆           ┆           ┆ 768841…  │\n",
       "│ Amazon.co ┆ 114-61329 ┆ 2025-10-0 ┆ null      ┆ … ┆ Not       ┆ Not       ┆ Not       ┆ Not Avai │\n",
       "│ m         ┆ 00-096500 ┆ 2         ┆           ┆   ┆ Available ┆ Available ┆ Available ┆ lable    │\n",
       "│           ┆ 5         ┆           ┆           ┆   ┆           ┆           ┆           ┆          │\n",
       "└───────────┴───────────┴───────────┴───────────┴───┴───────────┴───────────┴───────────┴──────────┘"
      ]
     },
     "metadata": {},
     "output_type": "display_data"
    }
   ],
   "source": [
    "import polars as pl\n",
    "import altair as alt\n",
    "import calendar\n",
    "\n",
    "alt.theme.enable('latimes')\n",
    "\n",
    "file = '/home/dedmonds/repos/code/eda/amazon-orders-20251008/Retail.OrderHistory.1/Retail.OrderHistory.1.csv'\n",
    "\n",
    "schema_changes = {\n",
    "    'Total Owed': pl.Utf8,\n",
    "    'Unit Price': pl.Utf8,\n",
    "    'Order Date': pl.Datetime,\n",
    "}\n",
    "\n",
    "df = pl.read_csv(\n",
    "    file,\n",
    "    has_header=True,\n",
    "    schema_overrides=schema_changes,\n",
    ")\n",
    "\n",
    "#display(df.head(4))\n",
    "\n",
    "null_strings = ['Not Available', 'Not Applicable']\n",
    "\n",
    "df = df.with_columns(\n",
    "        pl.col('Unit Price').str.replace_all(',', '').cast(pl.Float64),\n",
    "        pl.col('Total Owed').str.replace_all(',', '').cast(pl.Float64),\n",
    "        pl.col('Total Discounts').str.replace_all(\"'\", \"\").cast(pl.Float64),\n",
    "        pl.col('Purchase Order Number').replace(null_strings, None),\n",
    "        pl.col('Shipment Item Subtotal').replace(null_strings, None).str.replace_all(',', '').cast(pl.Float64),\n",
    "        pl.col('Shipment Item Subtotal Tax').replace(null_strings, None).str.replace_all(',', '').cast(pl.Float64),\n",
    "        pl.col('Ship Date').replace(null_strings, None).str.head(10).cast(pl.Date),\n",
    "        pl.col('Order Date').cast(pl.Date),\n",
    ")\n",
    "\n",
    "display(df.head(4))"
   ]
  },
  {
   "cell_type": "code",
   "execution_count": 3,
   "id": "bec7b823",
   "metadata": {},
   "outputs": [
    {
     "data": {
      "text/html": [
       "<div><style>\n",
       ".dataframe > thead > tr,\n",
       ".dataframe > tbody > tr {\n",
       "  text-align: right;\n",
       "  white-space: pre-wrap;\n",
       "}\n",
       "</style>\n",
       "<small>shape: (10, 2)</small><table border=\"1\" class=\"dataframe\"><thead><tr><th>Product Name</th><th>Cost</th></tr><tr><td>str</td><td>f64</td></tr></thead><tbody><tr><td>&quot;Philips HeartStart Home Defibr…</td><td>1285.15</td></tr><tr><td>&quot;Dell U-Series 38&quot; Screen LED-L…</td><td>1063.93</td></tr><tr><td>&quot;Polycom SoundStation IP 6000 w…</td><td>1055.64</td></tr><tr><td>&quot;Optoma HD39Darbee 1080p 3500 L…</td><td>976.5</td></tr><tr><td>&quot;Taylor GS Mini-e Koa&quot;</td><td>749.0</td></tr><tr><td>&quot;Hamilton Khaki Pilot Pioneer H…</td><td>639.55</td></tr><tr><td>&quot;Lenovo X1 Carbon 14 Inch Busin…</td><td>545.16</td></tr><tr><td>&quot;Insta360 ONE R Twin Edition - …</td><td>529.19</td></tr><tr><td>&quot;Polycom SoundStation IP 6000 w…</td><td>484.23</td></tr><tr><td>&quot;Logitech G923 Racing Wheel and…</td><td>419.57</td></tr></tbody></table></div>"
      ],
      "text/plain": [
       "shape: (10, 2)\n",
       "┌─────────────────────────────────┬─────────┐\n",
       "│ Product Name                    ┆ Cost    │\n",
       "│ ---                             ┆ ---     │\n",
       "│ str                             ┆ f64     │\n",
       "╞═════════════════════════════════╪═════════╡\n",
       "│ Philips HeartStart Home Defibr… ┆ 1285.15 │\n",
       "│ Dell U-Series 38\" Screen LED-L… ┆ 1063.93 │\n",
       "│ Polycom SoundStation IP 6000 w… ┆ 1055.64 │\n",
       "│ Optoma HD39Darbee 1080p 3500 L… ┆ 976.5   │\n",
       "│ Taylor GS Mini-e Koa            ┆ 749.0   │\n",
       "│ Hamilton Khaki Pilot Pioneer H… ┆ 639.55  │\n",
       "│ Lenovo X1 Carbon 14 Inch Busin… ┆ 545.16  │\n",
       "│ Insta360 ONE R Twin Edition - … ┆ 529.19  │\n",
       "│ Polycom SoundStation IP 6000 w… ┆ 484.23  │\n",
       "│ Logitech G923 Racing Wheel and… ┆ 419.57  │\n",
       "└─────────────────────────────────┴─────────┘"
      ]
     },
     "execution_count": 3,
     "metadata": {},
     "output_type": "execute_result"
    }
   ],
   "source": [
    "(\n",
    "    df\n",
    "    .sort('Total Owed', descending=True)\n",
    "    .head(10)\n",
    "    .select(\n",
    "        pl.col('Product Name'),\n",
    "        pl.col('Total Owed').alias('Cost'),\n",
    "    )\n",
    ")"
   ]
  },
  {
   "cell_type": "code",
   "execution_count": 4,
   "id": "670a3ae1",
   "metadata": {},
   "outputs": [
    {
     "data": {
      "text/html": [
       "<div><style>\n",
       ".dataframe > thead > tr,\n",
       ".dataframe > tbody > tr {\n",
       "  text-align: right;\n",
       "  white-space: pre-wrap;\n",
       "}\n",
       "</style>\n",
       "<small>shape: (1, 2)</small><table border=\"1\" class=\"dataframe\"><thead><tr><th>No. Purchases</th><th>Total Paid</th></tr><tr><td>u32</td><td>f64</td></tr></thead><tbody><tr><td>3464</td><td>102175.04</td></tr></tbody></table></div>"
      ],
      "text/plain": [
       "shape: (1, 2)\n",
       "┌───────────────┬────────────┐\n",
       "│ No. Purchases ┆ Total Paid │\n",
       "│ ---           ┆ ---        │\n",
       "│ u32           ┆ f64        │\n",
       "╞═══════════════╪════════════╡\n",
       "│ 3464          ┆ 102175.04  │\n",
       "└───────────────┴────────────┘"
      ]
     },
     "execution_count": 4,
     "metadata": {},
     "output_type": "execute_result"
    }
   ],
   "source": [
    "df.select(\n",
    "    pl.col('Total Owed').len().alias('No. Purchases'),\n",
    "    pl.col('Total Owed').sum().alias('Total Paid'),\n",
    ")"
   ]
  },
  {
   "cell_type": "code",
   "execution_count": 5,
   "id": "aa70cd80",
   "metadata": {},
   "outputs": [
    {
     "data": {
      "text/html": [
       "<div><style>\n",
       ".dataframe > thead > tr,\n",
       ".dataframe > tbody > tr {\n",
       "  text-align: right;\n",
       "  white-space: pre-wrap;\n",
       "}\n",
       "</style>\n",
       "<small>shape: (4, 5)</small><table border=\"1\" class=\"dataframe\"><thead><tr><th>Order Date</th><th>Product Name</th><th>Website</th><th>Total Owed</th><th>Order Month</th></tr><tr><td>date</td><td>str</td><td>str</td><td>f64</td><td>i8</td></tr></thead><tbody><tr><td>2017-06-08</td><td>&quot;NIKE Men&#x27;s Dry DF Swoosh Heath…</td><td>&quot;Amazon.com&quot;</td><td>70.52</td><td>6</td></tr><tr><td>2022-06-01</td><td>&quot;Logitech MX Master 2S Wireless…</td><td>&quot;Amazon.com&quot;</td><td>64.15</td><td>6</td></tr><tr><td>2025-04-23</td><td>&quot;ThermoPro TP49 Digital Hygrome…</td><td>&quot;Amazon.com&quot;</td><td>33.5</td><td>4</td></tr><tr><td>2023-06-23</td><td>&quot;Greater Goods Food Scale for K…</td><td>&quot;Amazon.com&quot;</td><td>12.0</td><td>6</td></tr></tbody></table></div>"
      ],
      "text/plain": [
       "shape: (4, 5)\n",
       "┌────────────┬─────────────────────────────────┬────────────┬────────────┬─────────────┐\n",
       "│ Order Date ┆ Product Name                    ┆ Website    ┆ Total Owed ┆ Order Month │\n",
       "│ ---        ┆ ---                             ┆ ---        ┆ ---        ┆ ---         │\n",
       "│ date       ┆ str                             ┆ str        ┆ f64        ┆ i8          │\n",
       "╞════════════╪═════════════════════════════════╪════════════╪════════════╪═════════════╡\n",
       "│ 2017-06-08 ┆ NIKE Men's Dry DF Swoosh Heath… ┆ Amazon.com ┆ 70.52      ┆ 6           │\n",
       "│ 2022-06-01 ┆ Logitech MX Master 2S Wireless… ┆ Amazon.com ┆ 64.15      ┆ 6           │\n",
       "│ 2025-04-23 ┆ ThermoPro TP49 Digital Hygrome… ┆ Amazon.com ┆ 33.5       ┆ 4           │\n",
       "│ 2023-06-23 ┆ Greater Goods Food Scale for K… ┆ Amazon.com ┆ 12.0       ┆ 6           │\n",
       "└────────────┴─────────────────────────────────┴────────────┴────────────┴─────────────┘"
      ]
     },
     "metadata": {},
     "output_type": "display_data"
    }
   ],
   "source": [
    "df_date_totals = (\n",
    "    df\n",
    "    .filter(pl.col('Order Status') != 'Cancelled')\n",
    "    .group_by('Order Date')\n",
    "    .agg(\n",
    "        pl.col('Product Name').first(),\n",
    "        pl.col('Website').first(),\n",
    "        pl.col('Total Owed').sum(),\n",
    "    )\n",
    "    .with_columns(\n",
    "        pl.col('Order Date').dt.month().alias('Order Month'),\n",
    "        #pl.col('Order Date').dt.strftime('%b').alias('Order Month'),\n",
    "    )\n",
    ")\n",
    "\n",
    "display(df_date_totals.head(4))"
   ]
  },
  {
   "cell_type": "code",
   "execution_count": 73,
   "id": "81c9a652",
   "metadata": {},
   "outputs": [
    {
     "data": {
      "text/html": [
       "\n",
       "<style>\n",
       "  #altair-viz-6d3f9d49a136415eac6bdb4687b9f407.vega-embed {\n",
       "    width: 100%;\n",
       "    display: flex;\n",
       "  }\n",
       "\n",
       "  #altair-viz-6d3f9d49a136415eac6bdb4687b9f407.vega-embed details,\n",
       "  #altair-viz-6d3f9d49a136415eac6bdb4687b9f407.vega-embed details summary {\n",
       "    position: relative;\n",
       "  }\n",
       "</style>\n",
       "<div id=\"altair-viz-6d3f9d49a136415eac6bdb4687b9f407\"></div>\n",
       "<script type=\"text/javascript\">\n",
       "  var VEGA_DEBUG = (typeof VEGA_DEBUG == \"undefined\") ? {} : VEGA_DEBUG;\n",
       "  (function(spec, embedOpt){\n",
       "    let outputDiv = document.currentScript.previousElementSibling;\n",
       "    if (outputDiv.id !== \"altair-viz-6d3f9d49a136415eac6bdb4687b9f407\") {\n",
       "      outputDiv = document.getElementById(\"altair-viz-6d3f9d49a136415eac6bdb4687b9f407\");\n",
       "    }\n",
       "\n",
       "    const paths = {\n",
       "      \"vega\": \"https://cdn.jsdelivr.net/npm/vega@5?noext\",\n",
       "      \"vega-lib\": \"https://cdn.jsdelivr.net/npm/vega-lib?noext\",\n",
       "      \"vega-lite\": \"https://cdn.jsdelivr.net/npm/vega-lite@5.20.1?noext\",\n",
       "      \"vega-embed\": \"https://cdn.jsdelivr.net/npm/vega-embed@6?noext\",\n",
       "    };\n",
       "\n",
       "    function maybeLoadScript(lib, version) {\n",
       "      var key = `${lib.replace(\"-\", \"\")}_version`;\n",
       "      return (VEGA_DEBUG[key] == version) ?\n",
       "        Promise.resolve(paths[lib]) :\n",
       "        new Promise(function(resolve, reject) {\n",
       "          var s = document.createElement('script');\n",
       "          document.getElementsByTagName(\"head\")[0].appendChild(s);\n",
       "          s.async = true;\n",
       "          s.onload = () => {\n",
       "            VEGA_DEBUG[key] = version;\n",
       "            return resolve(paths[lib]);\n",
       "          };\n",
       "          s.onerror = () => reject(`Error loading script: ${paths[lib]}`);\n",
       "          s.src = paths[lib];\n",
       "        });\n",
       "    }\n",
       "\n",
       "    function showError(err) {\n",
       "      outputDiv.innerHTML = `<div class=\"error\" style=\"color:red;\">${err}</div>`;\n",
       "      throw err;\n",
       "    }\n",
       "\n",
       "    function displayChart(vegaEmbed) {\n",
       "      vegaEmbed(outputDiv, spec, embedOpt)\n",
       "        .catch(err => showError(`Javascript Error: ${err.message}<br>This usually means there's a typo in your chart specification. See the javascript console for the full traceback.`));\n",
       "    }\n",
       "\n",
       "    if(typeof define === \"function\" && define.amd) {\n",
       "      requirejs.config({paths});\n",
       "      let deps = [\"vega-embed\"];\n",
       "      require(deps, displayChart, err => showError(`Error loading script: ${err.message}`));\n",
       "    } else {\n",
       "      maybeLoadScript(\"vega\", \"5\")\n",
       "        .then(() => maybeLoadScript(\"vega-lite\", \"5.20.1\"))\n",
       "        .then(() => maybeLoadScript(\"vega-embed\", \"6\"))\n",
       "        .catch(showError)\n",
       "        .then(() => displayChart(vegaEmbed));\n",
       "    }\n",
       "  })({\"usermeta\": {\"embedOptions\": {\"theme\": \"latimes\"}}, \"config\": {\"view\": {\"continuousWidth\": 300, \"continuousHeight\": 300}}, \"data\": {\"name\": \"data-e1028e83d87351dac8589629d707e1bd\"}, \"mark\": {\"type\": \"bar\", \"color\": \"#87ffaf\", \"opacity\": 0.75, \"stroke\": \"black\"}, \"encoding\": {\"tooltip\": {\"field\": \"custom_tooltip\", \"type\": \"nominal\"}, \"x\": {\"field\": \"Year\", \"title\": \"\", \"type\": \"ordinal\"}, \"y\": {\"axis\": {\"format\": \"$,.0f\"}, \"field\": \"Total Spent\", \"title\": \"Total (USD)\", \"type\": \"quantitative\"}}, \"height\": 500, \"title\": \"Order Totals by Year\", \"transform\": [{\"calculate\": \"'$' + datum['Total Spent']\", \"as\": \"custom_tooltip\"}], \"width\": 1200, \"$schema\": \"https://vega.github.io/schema/vega-lite/v5.20.1.json\", \"datasets\": {\"data-e1028e83d87351dac8589629d707e1bd\": [{\"Year\": 2004, \"Total Spent\": 76.68}, {\"Year\": 2010, \"Total Spent\": 193.74}, {\"Year\": 2001, \"Total Spent\": 101.3}, {\"Year\": 2007, \"Total Spent\": 483.86}, {\"Year\": 2013, \"Total Spent\": 945.68}, {\"Year\": 2019, \"Total Spent\": 7184.78}, {\"Year\": 2025, \"Total Spent\": 6944.6}, {\"Year\": 2022, \"Total Spent\": 7549.26}, {\"Year\": 2016, \"Total Spent\": 6194.36}, {\"Year\": 2005, \"Total Spent\": 80.92}, {\"Year\": 2023, \"Total Spent\": 10110.17}, {\"Year\": 2014, \"Total Spent\": 3511.65}, {\"Year\": 2020, \"Total Spent\": 6993.29}, {\"Year\": 2008, \"Total Spent\": 267.28}, {\"Year\": 2011, \"Total Spent\": 247.12}, {\"Year\": 2017, \"Total Spent\": 8395.06}, {\"Year\": 2015, \"Total Spent\": 11089.04}, {\"Year\": 2006, \"Total Spent\": 660.48}, {\"Year\": 2012, \"Total Spent\": 75.8}, {\"Year\": 2009, \"Total Spent\": 448.49}, {\"Year\": 2021, \"Total Spent\": 10301.94}, {\"Year\": 2003, \"Total Spent\": 77.97}, {\"Year\": 2018, \"Total Spent\": 8062.26}, {\"Year\": 2024, \"Total Spent\": 11828.14}]}}, {\"mode\": \"vega-lite\"});\n",
       "</script>"
      ],
      "text/plain": [
       "alt.Chart(...)"
      ]
     },
     "execution_count": 73,
     "metadata": {},
     "output_type": "execute_result"
    }
   ],
   "source": [
    "alt.Chart(\n",
    "    df_date_totals.with_columns(\n",
    "        pl.col('Order Date').dt.year().alias('Year'),\n",
    "    ).group_by('Year').agg(\n",
    "        pl.col('Total Owed').sum().round(2).alias('Total Spent')\n",
    "    ),\n",
    "    title='Order Totals by Year'\n",
    ").mark_bar(\n",
    "    color='#87ffaf',\n",
    "    stroke='black',\n",
    "    opacity=0.75,\n",
    ").transform_calculate(\n",
    "    custom_tooltip=\"'$' + datum['Total Spent']\",\n",
    ").encode(\n",
    "    x=alt.X('Year:O', title=''),\n",
    "    y=alt.Y('Total Spent', title='Total (USD)', axis=alt.Axis(format='$,.0f')),\n",
    "    tooltip='custom_tooltip:N',\n",
    ").properties(\n",
    "    width=1200,\n",
    "    height=500,\n",
    ")"
   ]
  },
  {
   "cell_type": "code",
   "execution_count": 132,
   "id": "78f885e8",
   "metadata": {},
   "outputs": [
    {
     "data": {
      "text/html": [
       "<div><style>\n",
       ".dataframe > thead > tr,\n",
       ".dataframe > tbody > tr {\n",
       "  text-align: right;\n",
       "  white-space: pre-wrap;\n",
       "}\n",
       "</style>\n",
       "<small>shape: (10, 7)</small><table border=\"1\" class=\"dataframe\"><thead><tr><th>Product Name</th><th>Quantity</th><th>No. Orders</th><th>Avg. Price</th><th>Total Paid</th><th>Date First Ordered</th><th>Date Last Ordered</th></tr><tr><td>str</td><td>i64</td><td>u32</td><td>f64</td><td>f64</td><td>date</td><td>date</td></tr></thead><tbody><tr><td>&quot;thinkThin High Protein, Chunky…</td><td>28</td><td>7</td><td>16.98</td><td>475.49</td><td>2015-04-26</td><td>2015-02-09</td></tr><tr><td>&quot;Kodak Tri-X 400TX Professional…</td><td>20</td><td>1</td><td>5.42</td><td>108.4</td><td>2016-06-18</td><td>2016-06-18</td></tr><tr><td>&quot;The Boy, the Mole, the Fox and…</td><td>15</td><td>6</td><td>12.98</td><td>194.67</td><td>2022-12-22</td><td>2021-05-09</td></tr><tr><td>&quot;Perfect Bar, Peanut Butter Pro…</td><td>13</td><td>6</td><td>20.69</td><td>269.0</td><td>2025-06-15</td><td>2024-08-20</td></tr><tr><td>&quot;Chicago Comb Model 7 Carbon Fi…</td><td>13</td><td>9</td><td>13.45</td><td>174.8</td><td>2023-11-26</td><td>2021-02-10</td></tr><tr><td>&quot;Luna Sundara Handmade Palo San…</td><td>13</td><td>7</td><td>14.74</td><td>191.66</td><td>2025-08-04</td><td>2022-12-19</td></tr><tr><td>&quot;thinkThin Chunky Peanut Butter…</td><td>10</td><td>6</td><td>14.23</td><td>142.3</td><td>2015-02-04</td><td>2014-11-21</td></tr><tr><td>&quot;AmazonBasics High-Speed HDMI C…</td><td>10</td><td>1</td><td>5.98</td><td>59.8</td><td>2015-02-28</td><td>2015-02-28</td></tr><tr><td>&quot;Perfect Bar Peanut Butter Prot…</td><td>9</td><td>4</td><td>22.4</td><td>201.6</td><td>2024-06-17</td><td>2024-01-16</td></tr><tr><td>&quot;thinkThin High Protein Bars, C…</td><td>8</td><td>3</td><td>13.42</td><td>107.35</td><td>2016-10-04</td><td>2015-11-26</td></tr></tbody></table></div>"
      ],
      "text/plain": [
       "shape: (10, 7)\n",
       "┌──────────────────────┬──────────┬────────────┬────────────┬────────────┬────────────┬────────────┐\n",
       "│ Product Name         ┆ Quantity ┆ No. Orders ┆ Avg. Price ┆ Total Paid ┆ Date First ┆ Date Last  │\n",
       "│ ---                  ┆ ---      ┆ ---        ┆ ---        ┆ ---        ┆ Ordered    ┆ Ordered    │\n",
       "│ str                  ┆ i64      ┆ u32        ┆ f64        ┆ f64        ┆ ---        ┆ ---        │\n",
       "│                      ┆          ┆            ┆            ┆            ┆ date       ┆ date       │\n",
       "╞══════════════════════╪══════════╪════════════╪════════════╪════════════╪════════════╪════════════╡\n",
       "│ thinkThin High       ┆ 28       ┆ 7          ┆ 16.98      ┆ 475.49     ┆ 2015-04-26 ┆ 2015-02-09 │\n",
       "│ Protein, Chunky…     ┆          ┆            ┆            ┆            ┆            ┆            │\n",
       "│ Kodak Tri-X 400TX    ┆ 20       ┆ 1          ┆ 5.42       ┆ 108.4      ┆ 2016-06-18 ┆ 2016-06-18 │\n",
       "│ Professional…        ┆          ┆            ┆            ┆            ┆            ┆            │\n",
       "│ The Boy, the Mole,   ┆ 15       ┆ 6          ┆ 12.98      ┆ 194.67     ┆ 2022-12-22 ┆ 2021-05-09 │\n",
       "│ the Fox and…         ┆          ┆            ┆            ┆            ┆            ┆            │\n",
       "│ Perfect Bar, Peanut  ┆ 13       ┆ 6          ┆ 20.69      ┆ 269.0      ┆ 2025-06-15 ┆ 2024-08-20 │\n",
       "│ Butter Pro…          ┆          ┆            ┆            ┆            ┆            ┆            │\n",
       "│ Chicago Comb Model 7 ┆ 13       ┆ 9          ┆ 13.45      ┆ 174.8      ┆ 2023-11-26 ┆ 2021-02-10 │\n",
       "│ Carbon Fi…           ┆          ┆            ┆            ┆            ┆            ┆            │\n",
       "│ Luna Sundara         ┆ 13       ┆ 7          ┆ 14.74      ┆ 191.66     ┆ 2025-08-04 ┆ 2022-12-19 │\n",
       "│ Handmade Palo San…   ┆          ┆            ┆            ┆            ┆            ┆            │\n",
       "│ thinkThin Chunky     ┆ 10       ┆ 6          ┆ 14.23      ┆ 142.3      ┆ 2015-02-04 ┆ 2014-11-21 │\n",
       "│ Peanut Butter…       ┆          ┆            ┆            ┆            ┆            ┆            │\n",
       "│ AmazonBasics         ┆ 10       ┆ 1          ┆ 5.98       ┆ 59.8       ┆ 2015-02-28 ┆ 2015-02-28 │\n",
       "│ High-Speed HDMI C…   ┆          ┆            ┆            ┆            ┆            ┆            │\n",
       "│ Perfect Bar Peanut   ┆ 9        ┆ 4          ┆ 22.4       ┆ 201.6      ┆ 2024-06-17 ┆ 2024-01-16 │\n",
       "│ Butter Prot…         ┆          ┆            ┆            ┆            ┆            ┆            │\n",
       "│ thinkThin High       ┆ 8        ┆ 3          ┆ 13.42      ┆ 107.35     ┆ 2016-10-04 ┆ 2015-11-26 │\n",
       "│ Protein Bars, C…     ┆          ┆            ┆            ┆            ┆            ┆            │\n",
       "└──────────────────────┴──────────┴────────────┴────────────┴────────────┴────────────┴────────────┘"
      ]
     },
     "execution_count": 132,
     "metadata": {},
     "output_type": "execute_result"
    }
   ],
   "source": [
    "(\n",
    "    df\n",
    "    .group_by('Product Name')\n",
    "    .agg(\n",
    "        pl.col('Quantity').sum(),\n",
    "        pl.col('Quantity').len().alias('No. Orders'),\n",
    "        (pl.col('Total Owed').sum() / pl.col('Quantity').sum()).round(2).alias('Avg. Price'),\n",
    "        pl.col('Total Owed').sum().alias('Total Paid'),\n",
    "        pl.col('Order Date').first().alias('Date First Ordered'),\n",
    "        pl.col('Order Date').last().alias('Date Last Ordered'),\n",
    "    )\n",
    "    .sort('Quantity', descending=True)\n",
    "    .head(10)\n",
    ")"
   ]
  },
  {
   "cell_type": "code",
   "execution_count": 65,
   "id": "1b0214d2",
   "metadata": {},
   "outputs": [
    {
     "data": {
      "text/html": [
       "<div><style>\n",
       ".dataframe > thead > tr,\n",
       ".dataframe > tbody > tr {\n",
       "  text-align: right;\n",
       "  white-space: pre-wrap;\n",
       "}\n",
       "</style>\n",
       "<small>shape: (5, 2)</small><table border=\"1\" class=\"dataframe\"><thead><tr><th>Order Month</th><th>Amount Paid</th></tr><tr><td>i8</td><td>f64</td></tr></thead><tbody><tr><td>11</td><td>6680.37</td></tr><tr><td>3</td><td>6839.49</td></tr><tr><td>6</td><td>7217.82</td></tr><tr><td>9</td><td>7379.62</td></tr><tr><td>2</td><td>7701.13</td></tr></tbody></table></div>"
      ],
      "text/plain": [
       "shape: (5, 2)\n",
       "┌─────────────┬─────────────┐\n",
       "│ Order Month ┆ Amount Paid │\n",
       "│ ---         ┆ ---         │\n",
       "│ i8          ┆ f64         │\n",
       "╞═════════════╪═════════════╡\n",
       "│ 11          ┆ 6680.37     │\n",
       "│ 3           ┆ 6839.49     │\n",
       "│ 6           ┆ 7217.82     │\n",
       "│ 9           ┆ 7379.62     │\n",
       "│ 2           ┆ 7701.13     │\n",
       "└─────────────┴─────────────┘"
      ]
     },
     "metadata": {},
     "output_type": "display_data"
    }
   ],
   "source": [
    "df_month_totals = (\n",
    "    df_date_totals\n",
    "    .group_by('Order Month')\n",
    "    .agg(\n",
    "        pl.col('Total Owed').sum().round(2).alias('Amount Paid'),\n",
    "    )\n",
    "    .sort('Amount Paid')\n",
    ")\n",
    "\n",
    "display(df_month_totals.head())"
   ]
  },
  {
   "cell_type": "code",
   "execution_count": null,
   "id": "7ab3f117",
   "metadata": {},
   "outputs": [
    {
     "data": {
      "text/html": [
       "\n",
       "<style>\n",
       "  #altair-viz-2eeb23c4dc704f009fddff8efa878111.vega-embed {\n",
       "    width: 100%;\n",
       "    display: flex;\n",
       "  }\n",
       "\n",
       "  #altair-viz-2eeb23c4dc704f009fddff8efa878111.vega-embed details,\n",
       "  #altair-viz-2eeb23c4dc704f009fddff8efa878111.vega-embed details summary {\n",
       "    position: relative;\n",
       "  }\n",
       "</style>\n",
       "<div id=\"altair-viz-2eeb23c4dc704f009fddff8efa878111\"></div>\n",
       "<script type=\"text/javascript\">\n",
       "  var VEGA_DEBUG = (typeof VEGA_DEBUG == \"undefined\") ? {} : VEGA_DEBUG;\n",
       "  (function(spec, embedOpt){\n",
       "    let outputDiv = document.currentScript.previousElementSibling;\n",
       "    if (outputDiv.id !== \"altair-viz-2eeb23c4dc704f009fddff8efa878111\") {\n",
       "      outputDiv = document.getElementById(\"altair-viz-2eeb23c4dc704f009fddff8efa878111\");\n",
       "    }\n",
       "\n",
       "    const paths = {\n",
       "      \"vega\": \"https://cdn.jsdelivr.net/npm/vega@5?noext\",\n",
       "      \"vega-lib\": \"https://cdn.jsdelivr.net/npm/vega-lib?noext\",\n",
       "      \"vega-lite\": \"https://cdn.jsdelivr.net/npm/vega-lite@5.20.1?noext\",\n",
       "      \"vega-embed\": \"https://cdn.jsdelivr.net/npm/vega-embed@6?noext\",\n",
       "    };\n",
       "\n",
       "    function maybeLoadScript(lib, version) {\n",
       "      var key = `${lib.replace(\"-\", \"\")}_version`;\n",
       "      return (VEGA_DEBUG[key] == version) ?\n",
       "        Promise.resolve(paths[lib]) :\n",
       "        new Promise(function(resolve, reject) {\n",
       "          var s = document.createElement('script');\n",
       "          document.getElementsByTagName(\"head\")[0].appendChild(s);\n",
       "          s.async = true;\n",
       "          s.onload = () => {\n",
       "            VEGA_DEBUG[key] = version;\n",
       "            return resolve(paths[lib]);\n",
       "          };\n",
       "          s.onerror = () => reject(`Error loading script: ${paths[lib]}`);\n",
       "          s.src = paths[lib];\n",
       "        });\n",
       "    }\n",
       "\n",
       "    function showError(err) {\n",
       "      outputDiv.innerHTML = `<div class=\"error\" style=\"color:red;\">${err}</div>`;\n",
       "      throw err;\n",
       "    }\n",
       "\n",
       "    function displayChart(vegaEmbed) {\n",
       "      vegaEmbed(outputDiv, spec, embedOpt)\n",
       "        .catch(err => showError(`Javascript Error: ${err.message}<br>This usually means there's a typo in your chart specification. See the javascript console for the full traceback.`));\n",
       "    }\n",
       "\n",
       "    if(typeof define === \"function\" && define.amd) {\n",
       "      requirejs.config({paths});\n",
       "      let deps = [\"vega-embed\"];\n",
       "      require(deps, displayChart, err => showError(`Error loading script: ${err.message}`));\n",
       "    } else {\n",
       "      maybeLoadScript(\"vega\", \"5\")\n",
       "        .then(() => maybeLoadScript(\"vega-lite\", \"5.20.1\"))\n",
       "        .then(() => maybeLoadScript(\"vega-embed\", \"6\"))\n",
       "        .catch(showError)\n",
       "        .then(() => displayChart(vegaEmbed));\n",
       "    }\n",
       "  })({\"usermeta\": {\"embedOptions\": {\"theme\": \"latimes\"}}, \"config\": {\"view\": {\"continuousWidth\": 300, \"continuousHeight\": 300}}, \"data\": {\"name\": \"data-782e83e31a37d35e480a27691ed09441\"}, \"mark\": {\"type\": \"bar\", \"color\": \"#87ffaf\", \"opacity\": 0.75, \"stroke\": \"black\"}, \"encoding\": {\"tooltip\": {\"field\": \"custom_tooltip\", \"type\": \"nominal\"}, \"x\": {\"field\": \"Month\", \"sort\": {\"field\": \"month_number\", \"order\": \"ascending\"}, \"title\": \"\", \"type\": \"nominal\"}, \"y\": {\"axis\": {\"format\": \"$,.0f\"}, \"field\": \"Amount Paid\", \"title\": \"total paid (USD)\", \"type\": \"quantitative\"}}, \"height\": 500, \"title\": \"aggregated costs by month\", \"transform\": [{\"calculate\": \"'$' + datum['Amount Paid']\", \"as\": \"custom_tooltip\"}], \"width\": 800, \"$schema\": \"https://vega.github.io/schema/vega-lite/v5.20.1.json\", \"datasets\": {\"data-782e83e31a37d35e480a27691ed09441\": [{\"Order Month\": 11, \"Amount Paid\": 6680.37, \"Month\": \"Nov\", \"month_number\": 11}, {\"Order Month\": 3, \"Amount Paid\": 6839.49, \"Month\": \"Mar\", \"month_number\": 3}, {\"Order Month\": 6, \"Amount Paid\": 7217.82, \"Month\": \"Jun\", \"month_number\": 6}, {\"Order Month\": 9, \"Amount Paid\": 7379.62, \"Month\": \"Sep\", \"month_number\": 9}, {\"Order Month\": 2, \"Amount Paid\": 7701.13, \"Month\": \"Feb\", \"month_number\": 2}, {\"Order Month\": 1, \"Amount Paid\": 8152.07, \"Month\": \"Jan\", \"month_number\": 1}, {\"Order Month\": 10, \"Amount Paid\": 8396.48, \"Month\": \"Oct\", \"month_number\": 10}, {\"Order Month\": 7, \"Amount Paid\": 8866.37, \"Month\": \"Jul\", \"month_number\": 7}, {\"Order Month\": 4, \"Amount Paid\": 9142.75, \"Month\": \"Apr\", \"month_number\": 4}, {\"Order Month\": 8, \"Amount Paid\": 9897.43, \"Month\": \"Aug\", \"month_number\": 8}, {\"Order Month\": 5, \"Amount Paid\": 10118.3, \"Month\": \"May\", \"month_number\": 5}, {\"Order Month\": 12, \"Amount Paid\": 11432.04, \"Month\": \"Dec\", \"month_number\": 12}]}}, {\"mode\": \"vega-lite\"});\n",
       "</script>"
      ],
      "text/plain": [
       "alt.Chart(...)"
      ]
     },
     "execution_count": 70,
     "metadata": {},
     "output_type": "execute_result"
    }
   ],
   "source": [
    "alt.Chart(\n",
    "    df_month_totals.with_columns(\n",
    "        pl.col('Order Month').map_elements(lambda n: calendar.month_abbr[n]).alias('Month'),\n",
    "        pl.col('Order Month').alias('month_number'),\n",
    "    ),\n",
    "    title='aggregated costs by month'\n",
    ").mark_bar(\n",
    "    color='#87ffaf',\n",
    "    stroke='black',\n",
    "    opacity=0.75,\n",
    ").transform_calculate(\n",
    "    custom_tooltip=\"'$' + datum['Amount Paid']\",\n",
    ").encode(\n",
    "    x=alt.X('Month', title='', sort=alt.SortField(field='month_number', order='ascending')),\n",
    "    y=alt.Y('Amount Paid', title='total paid (USD)', axis=alt.Axis(format='$,.0f')),\n",
    "    tooltip='custom_tooltip:N',\n",
    ").properties(\n",
    "    width=800,\n",
    "    height=500,\n",
    ")"
   ]
  }
 ],
 "metadata": {
  "kernelspec": {
   "display_name": "venv",
   "language": "python",
   "name": "python3"
  },
  "language_info": {
   "codemirror_mode": {
    "name": "ipython",
    "version": 3
   },
   "file_extension": ".py",
   "mimetype": "text/x-python",
   "name": "python",
   "nbconvert_exporter": "python",
   "pygments_lexer": "ipython3",
   "version": "3.13.3"
  }
 },
 "nbformat": 4,
 "nbformat_minor": 5
}
