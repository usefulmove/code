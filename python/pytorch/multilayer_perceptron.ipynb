{
  "nbformat": 4,
  "nbformat_minor": 0,
  "metadata": {
    "colab": {
      "provenance": [],
      "gpuType": "T4"
    },
    "kernelspec": {
      "name": "python3",
      "display_name": "Python 3"
    },
    "language_info": {
      "name": "python"
    },
    "gpuClass": "standard"
  },
  "cells": [
    {
      "cell_type": "markdown",
      "source": [
        "## construct model\n"
      ],
      "metadata": {
        "id": "tPoGEXrXKsId"
      }
    },
    {
      "cell_type": "code",
      "source": [
        "import torch\n",
        "from torch import nn\n",
        "from torchvision import datasets, transforms\n",
        "from torchsummary import summary\n",
        "\n",
        "# define the model\n",
        "class MLPerceptron(nn.Module):\n",
        "    def __init__(self):\n",
        "        super(MLPerceptron, self).__init__()\n",
        "        input_size = 28 * 28\n",
        "        hidden_size = 128\n",
        "        output_size = 10\n",
        "        self.layer1 = nn.Linear(input_size, hidden_size)\n",
        "        self.layer2 = nn.Linear(hidden_size, hidden_size)\n",
        "        self.layer3 = nn.Linear(hidden_size, hidden_size)\n",
        "        self.layer4 = nn.Linear(hidden_size, output_size)\n",
        "\n",
        "    def forward(self, x):\n",
        "        x = torch.relu(self.layer1(x))\n",
        "        x = torch.relu(self.layer2(x))\n",
        "        x = torch.relu(self.layer3(x))\n",
        "        x = self.layer4(x)\n",
        "        return x\n",
        "\n",
        "# create GPU device (if available)\n",
        "device = torch.device(\"cuda:0\" if torch.cuda.is_available() else \"cpu\")\n",
        "print(device)\n",
        "\n",
        "# instantiate the model\n",
        "model = MLPerceptron() # multi-layer perceptron model\n",
        "\n",
        "# move the model to the GPU (if available)\n",
        "model.to(device)\n",
        "\n",
        "summary(model, (1, 28 * 28))\n",
        "\n",
        "# define a transform to normalize the data\n",
        "transform = transforms.Compose([transforms.ToTensor(), transforms.Normalize((0.5,), (0.5,))])\n",
        "\n",
        "# download and load the data\n",
        "dataset = datasets.MNIST('~/.pytorch/MNIST_data/', download=True, train=True, transform=transform)"
      ],
      "metadata": {
        "colab": {
          "base_uri": "https://localhost:8080/"
        },
        "id": "IDcHRFbK2cQ0",
        "outputId": "c536f531-0343-44f0-aeb8-90aa8b5aef7f"
      },
      "execution_count": 2,
      "outputs": [
        {
          "output_type": "stream",
          "name": "stdout",
          "text": [
            "cpu\n",
            "----------------------------------------------------------------\n",
            "        Layer (type)               Output Shape         Param #\n",
            "================================================================\n",
            "            Linear-1               [-1, 1, 128]         100,480\n",
            "            Linear-2               [-1, 1, 128]          16,512\n",
            "            Linear-3               [-1, 1, 128]          16,512\n",
            "            Linear-4                [-1, 1, 10]           1,290\n",
            "================================================================\n",
            "Total params: 134,794\n",
            "Trainable params: 134,794\n",
            "Non-trainable params: 0\n",
            "----------------------------------------------------------------\n",
            "Input size (MB): 0.00\n",
            "Forward/backward pass size (MB): 0.00\n",
            "Params size (MB): 0.51\n",
            "Estimated Total Size (MB): 0.52\n",
            "----------------------------------------------------------------\n"
          ]
        }
      ]
    },
    {
      "cell_type": "markdown",
      "source": [
        "## model training"
      ],
      "metadata": {
        "id": "FlS55kuJYNLO"
      }
    },
    {
      "cell_type": "code",
      "source": [
        "from torch import optim\n",
        "from torch.utils.data import DataLoader, random_split\n",
        "\n",
        "# number of epochs\n",
        "n_epochs = 30\n",
        "\n",
        "# split the dataset into training and validation sets\n",
        "training_size = int(0.8 * len(dataset))  # 80% for training\n",
        "validation_size = len(dataset) - training_size  # 20% for validation\n",
        "training_data, validation_data = random_split(dataset, [training_size, validation_size])\n",
        "\n",
        "# create training and validation data loaders\n",
        "training_loader = DataLoader(training_data, batch_size=64, shuffle=True)\n",
        "validation_loader = DataLoader(validation_data, batch_size=64, shuffle=True)\n",
        "\n",
        "# define loss criterion and optimizer\n",
        "loss_criterion = nn.MSELoss() # mean squared error loss function\n",
        "optimizer = optim.SGD(model.parameters(), lr=0.8) # stochaistic gradient descent\n",
        "\n",
        "# training and validation\n",
        "for epoch in range(n_epochs):\n",
        "    # training\n",
        "    model.train()\n",
        "    training_loss = 0.0\n",
        "    for inputs, labels in training_loader:\n",
        "        # move inputs and labels to GPU (if available)\n",
        "        inputs, labels = inputs.to(device), labels.to(device)\n",
        "\n",
        "        # zero the parameter gradients\n",
        "        optimizer.zero_grad()\n",
        "\n",
        "        # reshape the inputs and forward pass\n",
        "        inputs = inputs.view(inputs.shape[0], -1)\n",
        "        outputs = model(inputs)\n",
        "\n",
        "        # transform labels to match the output shape\n",
        "        labels = nn.functional.one_hot(labels, num_classes=10).float()\n",
        "\n",
        "        # calculate loss\n",
        "        loss = loss_criterion(outputs, labels)\n",
        "        training_loss += loss.item()\n",
        "\n",
        "        # backward pass and optimization\n",
        "        loss.backward()\n",
        "        optimizer.step()\n",
        "\n",
        "    # calculate average loss over an epoch\n",
        "    training_loss = training_loss / len(training_loader)\n",
        "\n",
        "    # validation loss\n",
        "    model.eval()\n",
        "    validation_loss = 0.0\n",
        "    with torch.no_grad():\n",
        "        for inputs, labels in validation_loader:\n",
        "            # move inputs and labels to GPU (if available)\n",
        "            inputs, labels = inputs.to(device), labels.to(device)\n",
        "\n",
        "            inputs = inputs.view(inputs.shape[0], -1)\n",
        "            outputs = model(inputs)\n",
        "            labels = nn.functional.one_hot(labels, num_classes=10).float()\n",
        "            loss = loss_criterion(outputs, labels)\n",
        "            validation_loss += loss.item()\n",
        "    validation_loss = validation_loss / len(validation_loader)        \n",
        "\n",
        "    print('epoch: {} \\ttraining loss: {:.6f} \\tvalidation loss: {:.6f}'.format(epoch+1, training_loss, validation_loss))"
      ],
      "metadata": {
        "colab": {
          "base_uri": "https://localhost:8080/"
        },
        "id": "cXdB9qVrX9k6",
        "outputId": "974489a5-e26d-4d50-8c05-331faf9e0e31"
      },
      "execution_count": 6,
      "outputs": [
        {
          "output_type": "stream",
          "name": "stdout",
          "text": [
            "epoch: 1 \ttraining loss: 0.001772 \tvalidation loss: 0.002003\n",
            "epoch: 2 \ttraining loss: 0.001627 \tvalidation loss: 0.001992\n",
            "epoch: 3 \ttraining loss: 0.001430 \tvalidation loss: 0.001569\n",
            "epoch: 4 \ttraining loss: 0.001337 \tvalidation loss: 0.001637\n",
            "epoch: 5 \ttraining loss: 0.001203 \tvalidation loss: 0.001717\n",
            "epoch: 6 \ttraining loss: 0.001063 \tvalidation loss: 0.001728\n",
            "epoch: 7 \ttraining loss: 0.001038 \tvalidation loss: 0.001711\n",
            "epoch: 8 \ttraining loss: 0.000930 \tvalidation loss: 0.001680\n",
            "epoch: 9 \ttraining loss: 0.000845 \tvalidation loss: 0.001585\n",
            "epoch: 10 \ttraining loss: 0.000775 \tvalidation loss: 0.002223\n",
            "epoch: 11 \ttraining loss: 0.000799 \tvalidation loss: 0.001642\n",
            "epoch: 12 \ttraining loss: 0.000708 \tvalidation loss: 0.001723\n",
            "epoch: 13 \ttraining loss: 0.000662 \tvalidation loss: 0.001673\n",
            "epoch: 14 \ttraining loss: 0.000634 \tvalidation loss: 0.001649\n",
            "epoch: 15 \ttraining loss: 0.000578 \tvalidation loss: 0.001703\n",
            "epoch: 16 \ttraining loss: 0.000546 \tvalidation loss: 0.001516\n",
            "epoch: 17 \ttraining loss: 0.000500 \tvalidation loss: 0.001691\n",
            "epoch: 18 \ttraining loss: 0.000482 \tvalidation loss: 0.001584\n",
            "epoch: 19 \ttraining loss: 0.000452 \tvalidation loss: 0.001674\n",
            "epoch: 20 \ttraining loss: 0.000439 \tvalidation loss: 0.001612\n",
            "epoch: 21 \ttraining loss: 0.000409 \tvalidation loss: 0.001617\n",
            "epoch: 22 \ttraining loss: 0.000390 \tvalidation loss: 0.001583\n",
            "epoch: 23 \ttraining loss: 0.000378 \tvalidation loss: 0.001572\n",
            "epoch: 24 \ttraining loss: 0.000366 \tvalidation loss: 0.001694\n",
            "epoch: 25 \ttraining loss: 0.000347 \tvalidation loss: 0.001586\n",
            "epoch: 26 \ttraining loss: 0.000340 \tvalidation loss: 0.001646\n",
            "epoch: 27 \ttraining loss: 0.000319 \tvalidation loss: 0.001623\n",
            "epoch: 28 \ttraining loss: 0.000300 \tvalidation loss: 0.001613\n",
            "epoch: 29 \ttraining loss: 0.000296 \tvalidation loss: 0.001594\n",
            "epoch: 30 \ttraining loss: 0.000280 \tvalidation loss: 0.001583\n"
          ]
        }
      ]
    },
    {
      "cell_type": "markdown",
      "source": [
        "## model validation"
      ],
      "metadata": {
        "id": "hDoTqpwdPgCp"
      }
    },
    {
      "cell_type": "code",
      "source": [
        "# validation\n",
        "model.eval()\n",
        "correct = 0\n",
        "total = 0\n",
        "error_inputs = []\n",
        "error_labels = []\n",
        "error_predictions = []\n",
        "\n",
        "with torch.no_grad():\n",
        "    for inputs, labels in validation_loader:\n",
        "        # move inputs and labels to GPU (if available)\n",
        "        inputs, labels = inputs.to(device), labels.to(device)\n",
        "\n",
        "        inputs = inputs.view(inputs.shape[0], -1)\n",
        "        outputs = model(inputs)\n",
        "        \n",
        "        # get the predicted class for each sample in the batch\n",
        "        _, predicted = torch.max(outputs, 1)\n",
        "        \n",
        "        # count total number of labels and correct predictions\n",
        "        total += labels.size(0)\n",
        "        correct += (predicted == labels).sum().item()\n",
        "\n",
        "        # store inputs, labels, and predictions where predictions are incorrect\n",
        "        for i, label in enumerate(labels):\n",
        "            if label != predicted[i]:\n",
        "                error_labels.append(label.item())\n",
        "                error_inputs.append(inputs[i])\n",
        "                error_predictions.append(predicted[i].item())\n",
        "\n",
        "# calculate the percentage of correct predictions\n",
        "accuracy = correct / total * 100\n",
        "\n",
        "print('model accuracy: {:.2f}% ({:d} of {:d})'.format(accuracy, correct, total))"
      ],
      "metadata": {
        "colab": {
          "base_uri": "https://localhost:8080/"
        },
        "id": "hRSxNIaWKNwZ",
        "outputId": "4fee4e87-647c-46dd-b9b8-7cc709ba2f88"
      },
      "execution_count": 7,
      "outputs": [
        {
          "output_type": "stream",
          "name": "stdout",
          "text": [
            "model accuracy: 99.18% (11902 of 12000)\n"
          ]
        }
      ]
    },
    {
      "cell_type": "markdown",
      "source": [
        "## plot example of a failed prediction"
      ],
      "metadata": {
        "id": "mRWY4ykeWvrz"
      }
    },
    {
      "cell_type": "code",
      "source": [
        "import matplotlib.pyplot as plt\n",
        "from torchvision.transforms.functional import to_pil_image\n",
        "\n",
        "ind = 0\n",
        "input = error_inputs[ind]\n",
        "label = error_labels[ind]\n",
        "prediction = error_predictions[ind]\n",
        "\n",
        "print(input.size())\n",
        "\n",
        "# unnormalize and reshape the image\n",
        "image_tensor = (input * 0.5 + 0.5).reshape((28, 28))\n",
        "\n",
        "# convert to PIL Image\n",
        "image = to_pil_image(image_tensor)\n",
        "\n",
        "print(f'model prediction: {prediction} \\tlabel: {label}')\n",
        "\n",
        "# display the image\n",
        "plt.imshow(image, cmap='gray')\n",
        "plt.show()\n"
      ],
      "metadata": {
        "colab": {
          "base_uri": "https://localhost:8080/",
          "height": 467
        },
        "id": "hqORYRZdxbLv",
        "outputId": "f4bd2a11-5b4a-405d-d588-0798d7803d3d"
      },
      "execution_count": 8,
      "outputs": [
        {
          "output_type": "stream",
          "name": "stdout",
          "text": [
            "torch.Size([784])\n",
            "model prediction: 9 \tlabel: 8\n"
          ]
        },
        {
          "output_type": "display_data",
          "data": {
            "text/plain": [
              "<Figure size 640x480 with 1 Axes>"
            ],
            "image/png": "[encoded data removed]"
          },
          "metadata": {}
        }
      ]
    },
    {
      "cell_type": "markdown",
      "source": [
        "## save the model weights and biases"
      ],
      "metadata": {
        "id": "34j18Ykp70OA"
      }
    },
    {
      "cell_type": "code",
      "source": [
        "# save the model\n",
        "from google.colab import drive\n",
        "drive.mount('/content/gdrive')\n",
        "\n",
        "torch.save({\n",
        "    'model_state_dict': model.state_dict(),\n",
        "    'optimizer_state_dict': optimizer.state_dict(),\n",
        "}, \"/content/gdrive/My Drive/model.pth\")"
      ],
      "metadata": {
        "colab": {
          "base_uri": "https://localhost:8080/"
        },
        "id": "dRe0msGk1CJy",
        "outputId": "3743e132-2b5c-42b8-bb91-91e4f5cb5fd2"
      },
      "execution_count": 9,
      "outputs": [
        {
          "output_type": "stream",
          "name": "stdout",
          "text": [
            "Mounted at /content/gdrive\n"
          ]
        }
      ]
    }
  ]
}