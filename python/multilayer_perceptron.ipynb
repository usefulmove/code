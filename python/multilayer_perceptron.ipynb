{
  "nbformat": 4,
  "nbformat_minor": 0,
  "metadata": {
    "colab": {
      "provenance": [],
      "gpuType": "A100",
      "machine_shape": "hm"
    },
    "kernelspec": {
      "name": "python3",
      "display_name": "Python 3"
    },
    "language_info": {
      "name": "python"
    },
    "accelerator": "GPU",
    "gpuClass": "standard"
  },
  "cells": [
    {
      "cell_type": "markdown",
      "source": [
        "construct and train model -\n",
        "multi-layer perceptron neural network model implementation on MNIST data"
      ],
      "metadata": {
        "id": "tPoGEXrXKsId"
      }
    },
    {
      "cell_type": "code",
      "source": [
        "import torch\n",
        "from torch import nn, optim\n",
        "from torchvision import datasets, transforms\n",
        "from torch.utils.data import DataLoader, random_split\n",
        "\n",
        "# define the model\n",
        "class MLPerceptron(nn.Module):\n",
        "    def __init__(self):\n",
        "        super(MLPerceptron, self).__init__()\n",
        "        input_size = 28 * 28\n",
        "        hidden_size = 128\n",
        "        output_size = 10\n",
        "        self.layer1 = nn.Linear(input_size, hidden_size)\n",
        "        self.layer2 = nn.Linear(hidden_size, hidden_size)\n",
        "        self.layer3 = nn.Linear(hidden_size, hidden_size)\n",
        "        self.layer4 = nn.Linear(hidden_size, output_size)\n",
        "\n",
        "    def forward(self, x):\n",
        "        x = torch.relu(self.layer1(x))\n",
        "        x = torch.relu(self.layer2(x))\n",
        "        x = torch.relu(self.layer3(x))\n",
        "        x = self.layer4(x)\n",
        "        return x\n",
        "\n",
        "# define a transform to normalize the data\n",
        "transform = transforms.Compose([transforms.ToTensor(), transforms.Normalize((0.5,), (0.5,))])\n",
        "\n",
        "# download and load the data\n",
        "dataset = datasets.MNIST('~/.pytorch/MNIST_data/', download=True, train=True, transform=transform)\n",
        "\n",
        "# split the dataset into training and validation sets\n",
        "training_size = int(0.8 * len(dataset))  # 80% for training\n",
        "validation_size = len(dataset) - training_size  # 20% for validation\n",
        "training_data, validation_data = random_split(dataset, [training_size, validation_size])\n",
        "\n",
        "# create training and validation data loaders\n",
        "training_loader = DataLoader(training_data, batch_size=64, shuffle=True)\n",
        "validation_loader = DataLoader(validation_data, batch_size=64, shuffle=True)\n",
        "\n",
        "# instantiate the model, loss criterion, and optimizer\n",
        "model = MLPerceptron() # multi-layer perceptron model\n",
        "loss_criterion = nn.MSELoss() # mean squared error loss function\n",
        "optimizer = optim.SGD(model.parameters(), lr=0.8) # stochaistic gradient descent\n",
        "\n",
        "print(model)\n",
        "\n",
        "# number of epochs\n",
        "n_epochs = 30\n",
        "\n",
        "# training and validation\n",
        "for epoch in range(n_epochs):\n",
        "    # training\n",
        "    model.train()\n",
        "    training_loss = 0.0\n",
        "    for inputs, labels in training_loader:\n",
        "        # zero the parameter gradients\n",
        "        optimizer.zero_grad()\n",
        "\n",
        "        # reshape the inputs and forward pass\n",
        "        inputs = inputs.view(inputs.shape[0], -1)\n",
        "        outputs = model(inputs)\n",
        "\n",
        "        # transform labels to match the output shape\n",
        "        labels = nn.functional.one_hot(labels, num_classes=10).float()\n",
        "\n",
        "        # calculate loss\n",
        "        loss = loss_criterion(outputs, labels)\n",
        "        training_loss += loss.item()\n",
        "\n",
        "        # backward pass and optimization\n",
        "        loss.backward()\n",
        "        optimizer.step()\n",
        "\n",
        "    # calculate average loss over an epoch\n",
        "    training_loss = training_loss / len(training_loader)\n",
        "\n",
        "    # validation loss\n",
        "    model.eval()\n",
        "    validation_loss = 0.0\n",
        "    with torch.no_grad():\n",
        "        for inputs, labels in validation_loader:\n",
        "            inputs = inputs.view(inputs.shape[0], -1)\n",
        "            outputs = model(inputs)\n",
        "            labels = nn.functional.one_hot(labels, num_classes=10).float()\n",
        "            loss = loss_criterion(outputs, labels)\n",
        "            validation_loss += loss.item()\n",
        "    validation_loss = validation_loss / len(validation_loader)        \n",
        "\n",
        "    print('epoch: {} \\ttraining loss: {:.6f} \\tvalidation loss: {:.6f}'.format(epoch+1, training_loss, validation_loss))"
      ],
      "metadata": {
        "colab": {
          "base_uri": "https://localhost:8080/"
        },
        "id": "IDcHRFbK2cQ0",
        "outputId": "bc40f18b-7584-4eb2-d8df-10411005a739"
      },
      "execution_count": 3,
      "outputs": [
        {
          "output_type": "stream",
          "name": "stdout",
          "text": [
            "MLPerceptron(\n",
            "  (layer1): Linear(in_features=784, out_features=128, bias=True)\n",
            "  (layer2): Linear(in_features=128, out_features=128, bias=True)\n",
            "  (layer3): Linear(in_features=128, out_features=128, bias=True)\n",
            "  (layer4): Linear(in_features=128, out_features=10, bias=True)\n",
            ")\n",
            "epoch: 1 \ttraining loss: 0.027741 \tvalidation loss: 0.013113\n",
            "epoch: 2 \ttraining loss: 0.012030 \tvalidation loss: 0.009290\n",
            "epoch: 3 \ttraining loss: 0.008943 \tvalidation loss: 0.007780\n",
            "epoch: 4 \ttraining loss: 0.007466 \tvalidation loss: 0.007016\n",
            "epoch: 5 \ttraining loss: 0.006309 \tvalidation loss: 0.006315\n",
            "epoch: 6 \ttraining loss: 0.005600 \tvalidation loss: 0.005779\n",
            "epoch: 7 \ttraining loss: 0.005042 \tvalidation loss: 0.005609\n",
            "epoch: 8 \ttraining loss: 0.004511 \tvalidation loss: 0.004918\n",
            "epoch: 9 \ttraining loss: 0.004115 \tvalidation loss: 0.004672\n",
            "epoch: 10 \ttraining loss: 0.003755 \tvalidation loss: 0.004336\n",
            "epoch: 11 \ttraining loss: 0.003452 \tvalidation loss: 0.005070\n",
            "epoch: 12 \ttraining loss: 0.003219 \tvalidation loss: 0.004526\n",
            "epoch: 13 \ttraining loss: 0.002917 \tvalidation loss: 0.004925\n",
            "epoch: 14 \ttraining loss: 0.002754 \tvalidation loss: 0.004043\n",
            "epoch: 15 \ttraining loss: 0.002577 \tvalidation loss: 0.003943\n",
            "epoch: 16 \ttraining loss: 0.002390 \tvalidation loss: 0.003939\n",
            "epoch: 17 \ttraining loss: 0.002214 \tvalidation loss: 0.003867\n",
            "epoch: 18 \ttraining loss: 0.002048 \tvalidation loss: 0.004094\n",
            "epoch: 19 \ttraining loss: 0.001954 \tvalidation loss: 0.003647\n",
            "epoch: 20 \ttraining loss: 0.001831 \tvalidation loss: 0.003578\n",
            "epoch: 21 \ttraining loss: 0.001716 \tvalidation loss: 0.004315\n",
            "epoch: 22 \ttraining loss: 0.001576 \tvalidation loss: 0.003551\n",
            "epoch: 23 \ttraining loss: 0.001441 \tvalidation loss: 0.003978\n",
            "epoch: 24 \ttraining loss: 0.001408 \tvalidation loss: 0.003467\n",
            "epoch: 25 \ttraining loss: 0.001304 \tvalidation loss: 0.003513\n",
            "epoch: 26 \ttraining loss: 0.001242 \tvalidation loss: 0.003573\n",
            "epoch: 27 \ttraining loss: 0.001188 \tvalidation loss: 0.003465\n",
            "epoch: 28 \ttraining loss: 0.001085 \tvalidation loss: 0.003419\n",
            "epoch: 29 \ttraining loss: 0.001044 \tvalidation loss: 0.003427\n",
            "epoch: 30 \ttraining loss: 0.000975 \tvalidation loss: 0.003394\n"
          ]
        }
      ]
    },
    {
      "cell_type": "markdown",
      "source": [
        "model validation"
      ],
      "metadata": {
        "id": "hDoTqpwdPgCp"
      }
    },
    {
      "cell_type": "code",
      "source": [
        "# validation\n",
        "model.eval()\n",
        "correct = 0\n",
        "total = 0\n",
        "error_inputs = []\n",
        "error_labels = []\n",
        "error_predictions = []\n",
        "\n",
        "with torch.no_grad():\n",
        "    for inputs, labels in validation_loader:\n",
        "        inputs = inputs.view(inputs.shape[0], -1)\n",
        "        outputs = model(inputs)\n",
        "        \n",
        "        # get the predicted class for each sample in the batch\n",
        "        _, predicted = torch.max(outputs, 1)\n",
        "        \n",
        "        # count total number of labels and correct predictions\n",
        "        total += labels.size(0)\n",
        "        correct += (predicted == labels).sum().item()\n",
        "\n",
        "        # store inputs, labels, and predictions where predictions are incorrect\n",
        "        for i, label in enumerate(labels):\n",
        "            if label != predicted[i]:\n",
        "                error_labels.append(label.item())\n",
        "                error_inputs.append(inputs[i])\n",
        "                error_predictions.append(predicted[i].item())\n",
        "\n",
        "# calculate the percentage of correct predictions\n",
        "accuracy = correct / total * 100\n",
        "\n",
        "print('model accuracy: {:.2f}%'.format(accuracy))"
      ],
      "metadata": {
        "colab": {
          "base_uri": "https://localhost:8080/"
        },
        "id": "hRSxNIaWKNwZ",
        "outputId": "4b4d1948-2ff3-4cc6-fb45-4d8ef429c07a"
      },
      "execution_count": 4,
      "outputs": [
        {
          "output_type": "stream",
          "name": "stdout",
          "text": [
            "model accuracy: 98.07%\n"
          ]
        }
      ]
    },
    {
      "cell_type": "code",
      "source": [
        "import matplotlib.pyplot as plt\n",
        "from torchvision.transforms.functional import to_pil_image\n",
        "\n",
        "ind = 0\n",
        "input = error_inputs[ind]\n",
        "label = error_labels[ind]\n",
        "prediction = error_predictions[ind]\n",
        "\n",
        "print(input.size())\n",
        "\n",
        "# ensure the tensor is of correct shape\n",
        "input_tensor = input.view(1, -1)  # reshape to [1, 784] if it's not already\n",
        "\n",
        "# unnormalize the image\n",
        "unnorm_tensor = input * 0.5 + 0.5\n",
        "\n",
        "# convert to PIL Image\n",
        "img = to_pil_image(unnorm_tensor.reshape([28, 28]))\n",
        "\n",
        "print(f'model prediction: {prediction}   label: {label}')\n",
        "\n",
        "# display the image\n",
        "plt.imshow(img, cmap='gray')\n",
        "plt.show()\n"
      ],
      "metadata": {
        "colab": {
          "base_uri": "https://localhost:8080/",
          "height": 467
        },
        "id": "hqORYRZdxbLv",
        "outputId": "432978ab-c32b-4e86-f4be-e3fc2531ee7a"
      },
      "execution_count": 9,
      "outputs": [
        {
          "output_type": "stream",
          "name": "stdout",
          "text": [
            "torch.Size([784])\n",
            "model prediction: 5   label: 3\n"
          ]
        },
        {
          "output_type": "display_data",
          "data": {
            "text/plain": [
              "<Figure size 640x480 with 1 Axes>"
            ],
            "image/png": "[encoded data removed]"
          },
          "metadata": {}
        }
      ]
    }
  ]
}