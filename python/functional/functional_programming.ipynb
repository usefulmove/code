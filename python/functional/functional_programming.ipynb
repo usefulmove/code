{
  "nbformat": 4,
  "nbformat_minor": 0,
  "metadata": {
    "colab": {
      "provenance": []
    },
    "kernelspec": {
      "name": "python3",
      "display_name": "Python 3"
    },
    "language_info": {
      "name": "python"
    }
  },
  "cells": [
    {
      "cell_type": "markdown",
      "source": [
        "## function composition"
      ],
      "metadata": {
        "id": "o1cl8_u_3goi"
      }
    },
    {
      "cell_type": "code",
      "execution_count": null,
      "metadata": {
        "colab": {
          "base_uri": "https://localhost:8080/"
        },
        "id": "rqRfDTuBQycD",
        "outputId": "53ad6a90-95b3-403b-f42a-ccb2ccfa07ac"
      },
      "outputs": [
        {
          "output_type": "stream",
          "name": "stdout",
          "text": [
            "sq(double(8)) = 256\n"
          ]
        }
      ],
      "source": [
        "from toolz import compose\n",
        "\n",
        "# function composition\n",
        "\n",
        "def sq(n):\n",
        "    return n * n\n",
        "\n",
        "def double(n):\n",
        "    return 2 * n\n",
        "\n",
        "#sq(double(8)) = 256\n",
        "#double(sq(8)) = 128\n",
        "\n",
        "sd = compose(sq, double)\n",
        "ds = compose(double, sq)\n",
        "\n",
        "print(f\"sq(double(8)) = {sd(8)}\")"
      ]
    },
    {
      "cell_type": "code",
      "source": [
        "from toolz import compose\n",
        "\n",
        "def double(n):\n",
        "    return 2 * n\n",
        "\n",
        "def square(n):\n",
        "    return n * n\n",
        "\n",
        "def cube(n):\n",
        "    return n * n * n\n",
        "\n",
        "g = compose(\n",
        "    cube,\n",
        "    double,\n",
        "    square\n",
        ")\n",
        "\n",
        "print(f\"g(2) = {g(2)}\")"
      ],
      "metadata": {
        "colab": {
          "base_uri": "https://localhost:8080/"
        },
        "id": "3yE8bnz7WaLP",
        "outputId": "ddada0e5-8aad-41b5-ce21-e38ecb0cdf40"
      },
      "execution_count": null,
      "outputs": [
        {
          "output_type": "stream",
          "name": "stdout",
          "text": [
            "g(2) = 512\n"
          ]
        }
      ]
    },
    {
      "cell_type": "code",
      "source": [
        "from toolz import compose, compose_left as pipe\n",
        "\n",
        "# custom pipe\n",
        "#def pipe(*args, **kwargs):\n",
        "#    def closure():\n",
        "#        nargs = args[::-1]\n",
        "#        return compose(*nargs, **kwargs)\n",
        "#\n",
        "#    return closure()\n",
        "\n",
        "g = pipe(lambda a: a + 2, lambda a: a * a)\n",
        "h = compose(lambda a: a * a, lambda a: a + 2)\n",
        "\n",
        "print(g(10))\n",
        "print(h(10))"
      ],
      "metadata": {
        "colab": {
          "base_uri": "https://localhost:8080/"
        },
        "id": "VCwJoHwFqqGQ",
        "outputId": "d208570d-5330-4c4b-af63-daec8645e5fd"
      },
      "execution_count": null,
      "outputs": [
        {
          "output_type": "stream",
          "name": "stdout",
          "text": [
            "144\n",
            "144\n"
          ]
        }
      ]
    },
    {
      "cell_type": "markdown",
      "source": [
        "## currying"
      ],
      "metadata": {
        "id": "cNm-nF633Xm4"
      }
    },
    {
      "cell_type": "code",
      "source": [
        "from toolz import curry\n",
        "\n",
        "# function currying\n",
        "\n",
        "@curry\n",
        "def add(a, b):\n",
        "    return a + b\n",
        "\n",
        "# partial application\n",
        "add2=add(2)\n",
        "\n",
        "print(f\"add2(3) = {add2(3)}\")\n",
        "print(f\"add(2)(3) = {add(2)(3)}\")\n",
        "print(f\"add(2, 3) = {add(2, 3)}\")"
      ],
      "metadata": {
        "colab": {
          "base_uri": "https://localhost:8080/"
        },
        "id": "wMmxBiktSGGn",
        "outputId": "a6b10eac-33a6-4c2e-8c7a-5453cfd3417b"
      },
      "execution_count": null,
      "outputs": [
        {
          "output_type": "stream",
          "name": "stdout",
          "text": [
            "add2(3) = 5\n",
            "add(2)(3) = 5\n",
            "add(2, 3) = 5\n"
          ]
        }
      ]
    },
    {
      "cell_type": "code",
      "source": [
        "def curried_add(a):\n",
        "    def closure(b):\n",
        "        return a + b\n",
        "    return closure\n",
        "\n",
        "print(f\"curried_add(2)(3) = {curried_add(2)(3)}\")\n",
        "\n",
        "add3 = curried_add(3)\n",
        "\n",
        "print(f\"add3(2) = {add3(2)}\")"
      ],
      "metadata": {
        "colab": {
          "base_uri": "https://localhost:8080/"
        },
        "id": "iBkT2quxf-Sq",
        "outputId": "1341c9ec-28cb-4594-a3c0-734217b36082"
      },
      "execution_count": null,
      "outputs": [
        {
          "output_type": "stream",
          "name": "stdout",
          "text": [
            "curried_add(2)(3) = 5\n",
            "add3(2) = 5\n"
          ]
        }
      ]
    },
    {
      "cell_type": "code",
      "source": [
        "from toolz import curry, compose\n",
        "\n",
        "#sum(map(lambda a: a * a, list(range(1, 8 + 1))))\n",
        "\n",
        "# iota\n",
        "def iota(n):\n",
        "    return list(range(1, n + 1))\n",
        "\n",
        "@curry\n",
        "def curried_map(fn, seq):\n",
        "    return list(map(fn, seq))\n",
        "\n",
        "# map squares\n",
        "sqmap = curried_map(lambda a: a * a)\n",
        "\n",
        "#sum(sqmap(iota(8)))\n",
        "\n",
        "g = compose(\n",
        "    sum,\n",
        "    sqmap,\n",
        "    iota,\n",
        ")\n",
        "\n",
        "g(8)"
      ],
      "metadata": {
        "colab": {
          "base_uri": "https://localhost:8080/"
        },
        "id": "WjjfAsP3lPZo",
        "outputId": "928bb0bf-cf38-48e5-bde8-21159d60e1eb"
      },
      "execution_count": null,
      "outputs": [
        {
          "output_type": "execute_result",
          "data": {
            "text/plain": [
              "204"
            ]
          },
          "metadata": {},
          "execution_count": 54
        }
      ]
    },
    {
      "cell_type": "markdown",
      "source": [
        "## flatten"
      ],
      "metadata": {
        "id": "zPplFYOxG-9l"
      }
    },
    {
      "cell_type": "code",
      "source": [
        "# flatten list\n",
        "\n",
        "def flatten(seq):\n",
        "    T = type(seq) # using generics\n",
        "    return T( a for subseq in seq for a in subseq )\n",
        "\n",
        "test = [[3, 1, 2], [5, 4], [0]]\n",
        "flatten(test)"
      ],
      "metadata": {
        "id": "wth4mJHkHDB-",
        "outputId": "c7e3eef5-c320-4573-cc2f-9b213011c717",
        "colab": {
          "base_uri": "https://localhost:8080/"
        }
      },
      "execution_count": 3,
      "outputs": [
        {
          "output_type": "stream",
          "name": "stdout",
          "text": [
            "<class 'list'>\n"
          ]
        },
        {
          "output_type": "execute_result",
          "data": {
            "text/plain": [
              "[3, 1, 2, 5, 4, 0]"
            ]
          },
          "metadata": {},
          "execution_count": 3
        }
      ]
    },
    {
      "cell_type": "markdown",
      "source": [
        "## higher-order functions"
      ],
      "metadata": {
        "id": "nsAqVAnl4RaX"
      }
    }
  ]
}